{
 "cells": [
  {
   "cell_type": "markdown",
   "metadata": {},
   "source": [
    "# Tweeter Bot Classifer\n",
    "\n",
    "## Integrating machine learning to detect bots\n",
    "\n",
    "Over the past ten plus years, Twitter has explosively evolved into a major communication hub. \"Its primary purpose is to connect people and allow people to share their thoughts with a big audience. Twitter can also be a very helpful platform for growing a following and providing your audience with valuable content before they even become customers\" [Hubspot](https://blog.hubspot.com/marketing/what-is-twitter). However, not all accounts are geninue users. According to a Twitter SEC filling in 2017, Twitter estimated 8.5% of all users to be bots. To validate the credibility of communication exchanged on the platform, efforts in idnetifying spam bots will help improve user's experience on twitter. \n",
    "\n",
    "In this project, we will be using [The Fake Project](https://botometer.iuni.iu.edu/bot-repository/datasets.html) collected by S. Cresci, R. Di Pietro, M. Petrocchi, A. Spognardi, M. Tesconi in 2017. \n",
    "\n",
    "We'll begin with exploring traits between geniuine and bot accounts. Then, we will create supervised learning models (Logistic Regression, Random Forest, Nueral Networks) to create a Twitter bot classifer. Finally, we'll use clustering to identify certain specific behavioral groups of accounts. \n",
    "\n",
    " \n",
    "### Overview of Data\n",
    "We'll be using 4 data tables from the Fake Project: \n",
    " * __genuine accounts__: randomly sampled human-operated accounts verfied through responses of questions in natural language (2011)\n",
    " * __social spambots #1__: retweeters of an Italian political candiate (2012)\n",
    " * __social spambots #2__: spammers of #TALNTS (paid apps) for mobile devices (2014)\n",
    " * __social spambots #3__: spammers of products(URLs) on sale at Amazon.com (2011)\n",
    " \n",
    "\n",
    "Each dataset contains two tables: tweets and users. Below are some highlighted features. \n",
    "\n",
    "__Tweets Table__\n",
    "\n",
    "- id: text id\n",
    "- text: content of tweet\n",
    "- source: tweet source\n",
    "- user_id: id of account user\n",
    "- in_reply_to_status_id: \n",
    "- in_reply_to_user_id:\n",
    "- retweeted_status_id:\n",
    "- retweet_count:\n",
    "- reply_count:\n",
    "- favorite_count: \n",
    "- num_hashtags: acount of hastags in tweet\n",
    "- num_urls: \n",
    "- num_mentions: \n",
    "- created_at\n",
    "- timestamp\n",
    "- crawled_at\n",
    "- updated\n",
    "\n",
    "__Users Table__\n",
    "\n",
    "- id: user id\n",
    "- name: user name\n",
    "- screen_name: \n",
    "- statuses_count:\n",
    "- followers_count: \n",
    "- favourites_count:\n",
    "- listed_count:\n",
    "- lang:\n",
    "- profile varaiables include image url, color, fill etc. \n",
    "- created_at\n",
    "- timestamp\n",
    "- crawled_at\n",
    "- updated\n",
    "\n",
    "\n",
    "We will concatenate all tweeets tables to form an aggreated tweets table. The same method will be applied for users tables. For more information regarding the collection of data: [The Paradigm-Shift of Social Spambots:\n",
    "Evidence, Theories, and Tools for the Arms Race](http://papers.www2017.com.au.s3-website-ap-southeast-2.amazonaws.com/companion/p963.pdf)\n"
   ]
  },
  {
   "cell_type": "code",
   "execution_count": 1,
   "metadata": {},
   "outputs": [],
   "source": [
    "# Numpy and pandas\n",
    "import pandas as pd\n",
    "import numpy as np\n",
    "\n",
    "#Visualization\n",
    "import matplotlib.pyplot as plt\n",
    "import seaborn as sns\n",
    "import missingno as msno\n",
    "\n",
    "# Statistics tools\n",
    "import scipy.stats as stats\n",
    "\n",
    "# Sklearn data clean\n",
    "from sklearn.preprocessing import LabelEncoder\n",
    "from sklearn.impute import SimpleImputer\n",
    "from sklearn.preprocessing import MinMaxScaler\n",
    "\n",
    "# Datetime\n",
    "from datetime import datetime\n",
    "\n",
    "# Import data\n",
    "import warnings"
   ]
  },
  {
   "cell_type": "markdown",
   "metadata": {},
   "source": [
    "Let's start by importing tweets and users datasets. "
   ]
  },
  {
   "cell_type": "code",
   "execution_count": 2,
   "metadata": {},
   "outputs": [
    {
     "name": "stderr",
     "output_type": "stream",
     "text": [
      "/Users/tsawaengsri/anaconda3/lib/python3.6/site-packages/IPython/core/interactiveshell.py:3057: DtypeWarning: Columns (0) have mixed types. Specify dtype option on import or set low_memory=False.\n",
      "  interactivity=interactivity, compiler=compiler, result=result)\n",
      "/Users/tsawaengsri/anaconda3/lib/python3.6/site-packages/IPython/core/interactiveshell.py:3057: DtypeWarning: Columns (10) have mixed types. Specify dtype option on import or set low_memory=False.\n",
      "  interactivity=interactivity, compiler=compiler, result=result)\n",
      "/Users/tsawaengsri/anaconda3/lib/python3.6/site-packages/IPython/core/interactiveshell.py:3057: DtypeWarning: Columns (7,10) have mixed types. Specify dtype option on import or set low_memory=False.\n",
      "  interactivity=interactivity, compiler=compiler, result=result)\n"
     ]
    }
   ],
   "source": [
    "# Import genuine accounts \n",
    "g_tweets = pd.read_csv('/Users/tsawaengsri/Desktop/Data Science Courses/Datasets/cresci-2017.csv/datasets_full.csv/genuine_accounts.csv/tweets.csv')\n",
    "\n",
    "# Import spam bot accounts\n",
    "soc_bot1_tweets = pd.read_csv('/Users/tsawaengsri/Desktop/Data Science Courses/Datasets/cresci-2017.csv/datasets_full.csv/social_spambots_1.csv/tweets.csv')\n",
    "soc_bot2_tweets = pd.read_csv('/Users/tsawaengsri/Desktop/Data Science Courses/Datasets/cresci-2017.csv/datasets_full.csv/social_spambots_2.csv/tweets.csv')\n",
    "soc_bot3_tweets = pd.read_csv('/Users/tsawaengsri/Desktop/Data Science Courses/Datasets/cresci-2017.csv/datasets_full.csv/social_spambots_3.csv/tweets.csv')\n"
   ]
  },
  {
   "cell_type": "code",
   "execution_count": 3,
   "metadata": {},
   "outputs": [
    {
     "name": "stdout",
     "output_type": "stream",
     "text": [
      "Genuine tweets\n",
      "(2839362, 25)\n",
      "---------------\n",
      "Spam bot tweets\n",
      "(1610034, 25)\n",
      "(428542, 25)\n",
      "(1418557, 25)\n"
     ]
    }
   ],
   "source": [
    "print('Genuine tweets')\n",
    "print(g_tweets.shape)\n",
    "\n",
    "print('---------------')\n",
    "\n",
    "print('Spam bot tweets')\n",
    "print(soc_bot1_tweets.shape)\n",
    "print(soc_bot2_tweets.shape)\n",
    "print(soc_bot3_tweets.shape)"
   ]
  },
  {
   "cell_type": "code",
   "execution_count": 4,
   "metadata": {},
   "outputs": [],
   "source": [
    "# Import genuine accounts \n",
    "g_users = pd.read_csv('/Users/tsawaengsri/Desktop/Data Science Courses/Datasets/cresci-2017.csv/datasets_full.csv/genuine_accounts.csv/users.csv')\n",
    "\n",
    "# Import spam bot accounts\n",
    "soc_bot1_users = pd.read_csv('/Users/tsawaengsri/Desktop/Data Science Courses/Datasets/cresci-2017.csv/datasets_full.csv/social_spambots_1.csv/users.csv')\n",
    "soc_bot2_users = pd.read_csv('/Users/tsawaengsri/Desktop/Data Science Courses/Datasets/cresci-2017.csv/datasets_full.csv/social_spambots_2.csv/users.csv')\n",
    "soc_bot3_users = pd.read_csv('/Users/tsawaengsri/Desktop/Data Science Courses/Datasets/cresci-2017.csv/datasets_full.csv/social_spambots_3.csv/users.csv')\n"
   ]
  },
  {
   "cell_type": "code",
   "execution_count": 5,
   "metadata": {},
   "outputs": [
    {
     "name": "stdout",
     "output_type": "stream",
     "text": [
      "Genuine users\n",
      "(3474, 42)\n",
      "---------------\n",
      "Spam bot users\n",
      "(991, 41)\n",
      "(3457, 40)\n",
      "(464, 41)\n"
     ]
    }
   ],
   "source": [
    "print('Genuine users')\n",
    "print(g_users.shape)\n",
    "\n",
    "print('---------------')\n",
    "\n",
    "print('Spam bot users')\n",
    "print(soc_bot1_users.shape)\n",
    "print(soc_bot2_users.shape)\n",
    "print(soc_bot3_users.shape)"
   ]
  },
  {
   "cell_type": "markdown",
   "metadata": {},
   "source": [
    "## Merging datasets\n",
    "To create a dataset for modeling, we will aggregate all Tweets table together to form one Tweets. A class column will be added to indicate the original source table. Accounts from the Spambots table will be represented by '1' while '0' for genuine accounts. The following method will also be applied to all Users tables. \n"
   ]
  },
  {
   "cell_type": "code",
   "execution_count": 6,
   "metadata": {},
   "outputs": [],
   "source": [
    "# Join social bots\n",
    "b_tweets = pd.concat([soc_bot1_tweets,soc_bot2_tweets,soc_bot3_tweets], ignore_index=True, sort=False)"
   ]
  },
  {
   "cell_type": "code",
   "execution_count": 7,
   "metadata": {},
   "outputs": [],
   "source": [
    "# Create tweet class, 1 for bot and 0 for genuine tweets\n",
    "b_tweets['class'] = 1\n",
    "g_tweets['class'] = 0"
   ]
  },
  {
   "cell_type": "code",
   "execution_count": 8,
   "metadata": {},
   "outputs": [],
   "source": [
    "# Concatenate df\n",
    "tweets = pd.concat([b_tweets,g_tweets], ignore_index=True, sort=False)\n",
    "\n",
    "# Randomly shuffle df \n",
    "tweets = tweets.reindex(np.random.permutation(tweets.index))"
   ]
  },
  {
   "cell_type": "code",
   "execution_count": 9,
   "metadata": {},
   "outputs": [
    {
     "data": {
      "text/plain": [
       "(6296495, 26)"
      ]
     },
     "execution_count": 9,
     "metadata": {},
     "output_type": "execute_result"
    }
   ],
   "source": [
    "tweets.shape"
   ]
  },
  {
   "cell_type": "code",
   "execution_count": 10,
   "metadata": {},
   "outputs": [
    {
     "data": {
      "text/html": [
       "<div>\n",
       "<style scoped>\n",
       "    .dataframe tbody tr th:only-of-type {\n",
       "        vertical-align: middle;\n",
       "    }\n",
       "\n",
       "    .dataframe tbody tr th {\n",
       "        vertical-align: top;\n",
       "    }\n",
       "\n",
       "    .dataframe thead th {\n",
       "        text-align: right;\n",
       "    }\n",
       "</style>\n",
       "<table border=\"1\" class=\"dataframe\">\n",
       "  <thead>\n",
       "    <tr style=\"text-align: right;\">\n",
       "      <th></th>\n",
       "      <th>id</th>\n",
       "      <th>text</th>\n",
       "      <th>source</th>\n",
       "      <th>user_id</th>\n",
       "      <th>truncated</th>\n",
       "      <th>in_reply_to_status_id</th>\n",
       "      <th>in_reply_to_user_id</th>\n",
       "      <th>in_reply_to_screen_name</th>\n",
       "      <th>retweeted_status_id</th>\n",
       "      <th>geo</th>\n",
       "      <th>...</th>\n",
       "      <th>retweeted</th>\n",
       "      <th>possibly_sensitive</th>\n",
       "      <th>num_hashtags</th>\n",
       "      <th>num_urls</th>\n",
       "      <th>num_mentions</th>\n",
       "      <th>created_at</th>\n",
       "      <th>timestamp</th>\n",
       "      <th>crawled_at</th>\n",
       "      <th>updated</th>\n",
       "      <th>class</th>\n",
       "    </tr>\n",
       "  </thead>\n",
       "  <tbody>\n",
       "    <tr>\n",
       "      <th>579570</th>\n",
       "      <td>528273451556298752</td>\n",
       "      <td>http://t.co/EQFRnAUDVs</td>\n",
       "      <td>&lt;a href=\"http://www.fulviocoloretwit.com\" rel=...</td>\n",
       "      <td>4.664498e+08</td>\n",
       "      <td>NaN</td>\n",
       "      <td>0.0</td>\n",
       "      <td>0.0</td>\n",
       "      <td>NaN</td>\n",
       "      <td>0.000000e+00</td>\n",
       "      <td>NaN</td>\n",
       "      <td>...</td>\n",
       "      <td>NaN</td>\n",
       "      <td>NaN</td>\n",
       "      <td>0.0</td>\n",
       "      <td>1.0</td>\n",
       "      <td>0.0</td>\n",
       "      <td>Fri Oct 31 19:53:00 +0000 2014</td>\n",
       "      <td>2014-10-31 20:53:00</td>\n",
       "      <td>2014-11-13 08:11:44</td>\n",
       "      <td>2014-11-13 08:11:44</td>\n",
       "      <td>1</td>\n",
       "    </tr>\n",
       "    <tr>\n",
       "      <th>5819477</th>\n",
       "      <td>589861464631980032</td>\n",
       "      <td>RT @GirIyTattoos: http://t.co/hFXu9Yz6RV</td>\n",
       "      <td>&lt;a href=\"http://twitter.com/download/android\" ...</td>\n",
       "      <td>2.290984e+09</td>\n",
       "      <td>NaN</td>\n",
       "      <td>0.0</td>\n",
       "      <td>0.0</td>\n",
       "      <td>NaN</td>\n",
       "      <td>5.667312e+17</td>\n",
       "      <td>NaN</td>\n",
       "      <td>...</td>\n",
       "      <td>NaN</td>\n",
       "      <td>NaN</td>\n",
       "      <td>0.0</td>\n",
       "      <td>0.0</td>\n",
       "      <td>1.0</td>\n",
       "      <td>Sun Apr 19 18:41:46 +0000 2015</td>\n",
       "      <td>2015-04-19 20:41:46</td>\n",
       "      <td>2015-05-01 15:55:25</td>\n",
       "      <td>2015-05-01 15:55:25</td>\n",
       "      <td>0</td>\n",
       "    </tr>\n",
       "    <tr>\n",
       "      <th>1194954</th>\n",
       "      <td>372197626466557952</td>\n",
       "      <td>\"Soltanto alla fine della conoscenza di tutte ...</td>\n",
       "      <td>&lt;a href=\"http://tweetadder.com\" rel=\"nofollow\"...</td>\n",
       "      <td>5.757165e+08</td>\n",
       "      <td>NaN</td>\n",
       "      <td>0.0</td>\n",
       "      <td>0.0</td>\n",
       "      <td>NaN</td>\n",
       "      <td>0.000000e+00</td>\n",
       "      <td>NaN</td>\n",
       "      <td>...</td>\n",
       "      <td>NaN</td>\n",
       "      <td>NaN</td>\n",
       "      <td>0.0</td>\n",
       "      <td>0.0</td>\n",
       "      <td>0.0</td>\n",
       "      <td>Tue Aug 27 03:23:23 +0000 2013</td>\n",
       "      <td>2013-08-27 05:23:23</td>\n",
       "      <td>2014-11-13 13:21:01</td>\n",
       "      <td>2014-11-13 13:21:01</td>\n",
       "      <td>1</td>\n",
       "    </tr>\n",
       "    <tr>\n",
       "      <th>2482922</th>\n",
       "      <td>520101615509200896</td>\n",
       "      <td>The designated hitter rule is like letting som...</td>\n",
       "      <td>&lt;a href=\"http://tweetadder.com\" rel=\"nofollow\"...</td>\n",
       "      <td>3.262368e+08</td>\n",
       "      <td>NaN</td>\n",
       "      <td>0.0</td>\n",
       "      <td>0.0</td>\n",
       "      <td>NaN</td>\n",
       "      <td>0.000000e+00</td>\n",
       "      <td>NaN</td>\n",
       "      <td>...</td>\n",
       "      <td>NaN</td>\n",
       "      <td>NaN</td>\n",
       "      <td>0.0</td>\n",
       "      <td>0.0</td>\n",
       "      <td>0.0</td>\n",
       "      <td>Thu Oct 09 06:41:02 +0000 2014</td>\n",
       "      <td>2014-10-09 08:41:02</td>\n",
       "      <td>2014-11-13 01:02:23</td>\n",
       "      <td>2014-11-13 01:02:23</td>\n",
       "      <td>1</td>\n",
       "    </tr>\n",
       "    <tr>\n",
       "      <th>1117060</th>\n",
       "      <td>490933527677243393</td>\n",
       "      <td>I medici scrivono male così i pazienti non cap...</td>\n",
       "      <td>&lt;a href=\"http://www.NonSoloGossip.it\" rel=\"nof...</td>\n",
       "      <td>5.642496e+08</td>\n",
       "      <td>NaN</td>\n",
       "      <td>0.0</td>\n",
       "      <td>0.0</td>\n",
       "      <td>NaN</td>\n",
       "      <td>0.000000e+00</td>\n",
       "      <td>NaN</td>\n",
       "      <td>...</td>\n",
       "      <td>NaN</td>\n",
       "      <td>NaN</td>\n",
       "      <td>0.0</td>\n",
       "      <td>0.0</td>\n",
       "      <td>0.0</td>\n",
       "      <td>Sun Jul 20 18:57:28 +0000 2014</td>\n",
       "      <td>2014-07-20 20:57:28</td>\n",
       "      <td>2014-11-13 12:47:31</td>\n",
       "      <td>2014-11-13 12:47:31</td>\n",
       "      <td>1</td>\n",
       "    </tr>\n",
       "  </tbody>\n",
       "</table>\n",
       "<p>5 rows × 26 columns</p>\n",
       "</div>"
      ],
      "text/plain": [
       "                         id  \\\n",
       "579570   528273451556298752   \n",
       "5819477  589861464631980032   \n",
       "1194954  372197626466557952   \n",
       "2482922  520101615509200896   \n",
       "1117060  490933527677243393   \n",
       "\n",
       "                                                      text  \\\n",
       "579570                              http://t.co/EQFRnAUDVs   \n",
       "5819477           RT @GirIyTattoos: http://t.co/hFXu9Yz6RV   \n",
       "1194954  \"Soltanto alla fine della conoscenza di tutte ...   \n",
       "2482922  The designated hitter rule is like letting som...   \n",
       "1117060  I medici scrivono male così i pazienti non cap...   \n",
       "\n",
       "                                                    source       user_id  \\\n",
       "579570   <a href=\"http://www.fulviocoloretwit.com\" rel=...  4.664498e+08   \n",
       "5819477  <a href=\"http://twitter.com/download/android\" ...  2.290984e+09   \n",
       "1194954  <a href=\"http://tweetadder.com\" rel=\"nofollow\"...  5.757165e+08   \n",
       "2482922  <a href=\"http://tweetadder.com\" rel=\"nofollow\"...  3.262368e+08   \n",
       "1117060  <a href=\"http://www.NonSoloGossip.it\" rel=\"nof...  5.642496e+08   \n",
       "\n",
       "         truncated  in_reply_to_status_id  in_reply_to_user_id  \\\n",
       "579570         NaN                    0.0                  0.0   \n",
       "5819477        NaN                    0.0                  0.0   \n",
       "1194954        NaN                    0.0                  0.0   \n",
       "2482922        NaN                    0.0                  0.0   \n",
       "1117060        NaN                    0.0                  0.0   \n",
       "\n",
       "        in_reply_to_screen_name  retweeted_status_id  geo  ... retweeted  \\\n",
       "579570                      NaN         0.000000e+00  NaN  ...       NaN   \n",
       "5819477                     NaN         5.667312e+17  NaN  ...       NaN   \n",
       "1194954                     NaN         0.000000e+00  NaN  ...       NaN   \n",
       "2482922                     NaN         0.000000e+00  NaN  ...       NaN   \n",
       "1117060                     NaN         0.000000e+00  NaN  ...       NaN   \n",
       "\n",
       "         possibly_sensitive  num_hashtags  num_urls  num_mentions  \\\n",
       "579570                  NaN           0.0       1.0           0.0   \n",
       "5819477                 NaN           0.0       0.0           1.0   \n",
       "1194954                 NaN           0.0       0.0           0.0   \n",
       "2482922                 NaN           0.0       0.0           0.0   \n",
       "1117060                 NaN           0.0       0.0           0.0   \n",
       "\n",
       "                             created_at            timestamp  \\\n",
       "579570   Fri Oct 31 19:53:00 +0000 2014  2014-10-31 20:53:00   \n",
       "5819477  Sun Apr 19 18:41:46 +0000 2015  2015-04-19 20:41:46   \n",
       "1194954  Tue Aug 27 03:23:23 +0000 2013  2013-08-27 05:23:23   \n",
       "2482922  Thu Oct 09 06:41:02 +0000 2014  2014-10-09 08:41:02   \n",
       "1117060  Sun Jul 20 18:57:28 +0000 2014  2014-07-20 20:57:28   \n",
       "\n",
       "                  crawled_at              updated  class  \n",
       "579570   2014-11-13 08:11:44  2014-11-13 08:11:44      1  \n",
       "5819477  2015-05-01 15:55:25  2015-05-01 15:55:25      0  \n",
       "1194954  2014-11-13 13:21:01  2014-11-13 13:21:01      1  \n",
       "2482922  2014-11-13 01:02:23  2014-11-13 01:02:23      1  \n",
       "1117060  2014-11-13 12:47:31  2014-11-13 12:47:31      1  \n",
       "\n",
       "[5 rows x 26 columns]"
      ]
     },
     "execution_count": 10,
     "metadata": {},
     "output_type": "execute_result"
    }
   ],
   "source": [
    "tweets.head()"
   ]
  },
  {
   "cell_type": "code",
   "execution_count": 11,
   "metadata": {},
   "outputs": [
    {
     "name": "stdout",
     "output_type": "stream",
     "text": [
      "<class 'pandas.core.frame.DataFrame'>\n",
      "Int64Index: 6296495 entries, 579570 to 4934133\n",
      "Data columns (total 26 columns):\n",
      "id                         object\n",
      "text                       object\n",
      "source                     object\n",
      "user_id                    float64\n",
      "truncated                  float64\n",
      "in_reply_to_status_id      float64\n",
      "in_reply_to_user_id        float64\n",
      "in_reply_to_screen_name    object\n",
      "retweeted_status_id        float64\n",
      "geo                        float64\n",
      "place                      object\n",
      "contributors               float64\n",
      "retweet_count              float64\n",
      "reply_count                float64\n",
      "favorite_count             float64\n",
      "favorited                  float64\n",
      "retweeted                  float64\n",
      "possibly_sensitive         float64\n",
      "num_hashtags               float64\n",
      "num_urls                   float64\n",
      "num_mentions               float64\n",
      "created_at                 object\n",
      "timestamp                  object\n",
      "crawled_at                 object\n",
      "updated                    object\n",
      "class                      int64\n",
      "dtypes: float64(16), int64(1), object(9)\n",
      "memory usage: 1.3+ GB\n"
     ]
    }
   ],
   "source": [
    "tweets.info()"
   ]
  },
  {
   "cell_type": "markdown",
   "metadata": {},
   "source": [
    "Currently, the Tweets table consists of 6,296,495 million tweets and 26 features holding information such as the user's tweet message, source, and post time. \n",
    "\n",
    "\n",
    "Now, let's do the same for the users datasets. First, we will drop test columns in g_users, soc_bot1_users and soc_bot3_users so that we can have even numbers of columns. "
   ]
  },
  {
   "cell_type": "code",
   "execution_count": 12,
   "metadata": {},
   "outputs": [
    {
     "name": "stdout",
     "output_type": "stream",
     "text": [
      "<class 'pandas.core.frame.DataFrame'>\n",
      "RangeIndex: 3474 entries, 0 to 3473\n",
      "Data columns (total 42 columns):\n",
      "id                                    3474 non-null int64\n",
      "name                                  3473 non-null object\n",
      "screen_name                           3474 non-null object\n",
      "statuses_count                        3474 non-null int64\n",
      "followers_count                       3474 non-null int64\n",
      "friends_count                         3474 non-null int64\n",
      "favourites_count                      3474 non-null int64\n",
      "listed_count                          3474 non-null int64\n",
      "url                                   1266 non-null object\n",
      "lang                                  3474 non-null object\n",
      "time_zone                             2475 non-null object\n",
      "location                              2365 non-null object\n",
      "default_profile                       1032 non-null float64\n",
      "default_profile_image                 13 non-null float64\n",
      "geo_enabled                           2155 non-null float64\n",
      "profile_image_url                     3474 non-null object\n",
      "profile_banner_url                    3165 non-null object\n",
      "profile_use_background_image          3084 non-null float64\n",
      "profile_background_image_url_https    3474 non-null object\n",
      "profile_text_color                    3474 non-null object\n",
      "profile_image_url_https               3474 non-null object\n",
      "profile_sidebar_border_color          3474 non-null object\n",
      "profile_background_tile               1307 non-null float64\n",
      "profile_sidebar_fill_color            3474 non-null object\n",
      "profile_background_image_url          3474 non-null object\n",
      "profile_background_color              3474 non-null object\n",
      "profile_link_color                    3474 non-null object\n",
      "utc_offset                            2475 non-null float64\n",
      "is_translator                         1 non-null float64\n",
      "follow_request_sent                   0 non-null float64\n",
      "protected                             78 non-null float64\n",
      "verified                              11 non-null float64\n",
      "notifications                         0 non-null float64\n",
      "description                           3095 non-null object\n",
      "contributors_enabled                  0 non-null float64\n",
      "following                             0 non-null float64\n",
      "created_at                            3474 non-null object\n",
      "timestamp                             3474 non-null object\n",
      "crawled_at                            3474 non-null object\n",
      "updated                               3474 non-null object\n",
      "test_set_1                            3474 non-null int64\n",
      "test_set_2                            3474 non-null int64\n",
      "dtypes: float64(13), int64(8), object(21)\n",
      "memory usage: 1.1+ MB\n"
     ]
    }
   ],
   "source": [
    "g_users.info()"
   ]
  },
  {
   "cell_type": "code",
   "execution_count": 13,
   "metadata": {},
   "outputs": [
    {
     "name": "stdout",
     "output_type": "stream",
     "text": [
      "<class 'pandas.core.frame.DataFrame'>\n",
      "RangeIndex: 991 entries, 0 to 990\n",
      "Data columns (total 41 columns):\n",
      "id                                    991 non-null int64\n",
      "name                                  991 non-null object\n",
      "screen_name                           991 non-null object\n",
      "statuses_count                        991 non-null int64\n",
      "followers_count                       991 non-null int64\n",
      "friends_count                         991 non-null int64\n",
      "favourites_count                      991 non-null int64\n",
      "listed_count                          991 non-null int64\n",
      "url                                   22 non-null object\n",
      "lang                                  991 non-null object\n",
      "time_zone                             903 non-null object\n",
      "location                              745 non-null object\n",
      "default_profile                       145 non-null float64\n",
      "default_profile_image                 1 non-null float64\n",
      "geo_enabled                           18 non-null float64\n",
      "profile_image_url                     991 non-null object\n",
      "profile_banner_url                    77 non-null object\n",
      "profile_use_background_image          988 non-null float64\n",
      "profile_background_image_url_https    991 non-null object\n",
      "profile_text_color                    991 non-null object\n",
      "profile_image_url_https               991 non-null object\n",
      "profile_sidebar_border_color          991 non-null object\n",
      "profile_background_tile               266 non-null float64\n",
      "profile_sidebar_fill_color            991 non-null object\n",
      "profile_background_image_url          991 non-null object\n",
      "profile_background_color              991 non-null object\n",
      "profile_link_color                    991 non-null object\n",
      "utc_offset                            903 non-null float64\n",
      "is_translator                         0 non-null float64\n",
      "follow_request_sent                   0 non-null float64\n",
      "protected                             0 non-null float64\n",
      "verified                              0 non-null float64\n",
      "notifications                         0 non-null float64\n",
      "description                           943 non-null object\n",
      "contributors_enabled                  0 non-null float64\n",
      "following                             0 non-null float64\n",
      "created_at                            991 non-null object\n",
      "timestamp                             991 non-null object\n",
      "crawled_at                            991 non-null object\n",
      "updated                               991 non-null object\n",
      "test_set_1                            991 non-null int64\n",
      "dtypes: float64(13), int64(7), object(21)\n",
      "memory usage: 317.6+ KB\n"
     ]
    }
   ],
   "source": [
    "soc_bot1_users.info()"
   ]
  },
  {
   "cell_type": "code",
   "execution_count": 14,
   "metadata": {},
   "outputs": [
    {
     "name": "stdout",
     "output_type": "stream",
     "text": [
      "<class 'pandas.core.frame.DataFrame'>\n",
      "RangeIndex: 3457 entries, 0 to 3456\n",
      "Data columns (total 40 columns):\n",
      "id                                    3457 non-null int64\n",
      "name                                  3457 non-null object\n",
      "screen_name                           3457 non-null object\n",
      "statuses_count                        3457 non-null int64\n",
      "followers_count                       3457 non-null int64\n",
      "friends_count                         3457 non-null int64\n",
      "favourites_count                      3457 non-null int64\n",
      "listed_count                          3457 non-null int64\n",
      "url                                   10 non-null object\n",
      "lang                                  3457 non-null object\n",
      "time_zone                             14 non-null object\n",
      "location                              13 non-null object\n",
      "default_profile                       15 non-null float64\n",
      "default_profile_image                 46 non-null float64\n",
      "geo_enabled                           5 non-null float64\n",
      "profile_image_url                     3457 non-null object\n",
      "profile_banner_url                    15 non-null object\n",
      "profile_use_background_image          3457 non-null int64\n",
      "profile_background_image_url_https    3457 non-null object\n",
      "profile_text_color                    3457 non-null object\n",
      "profile_image_url_https               3457 non-null object\n",
      "profile_sidebar_border_color          3457 non-null object\n",
      "profile_background_tile               3437 non-null float64\n",
      "profile_sidebar_fill_color            3457 non-null object\n",
      "profile_background_image_url          3457 non-null object\n",
      "profile_background_color              3457 non-null object\n",
      "profile_link_color                    3457 non-null object\n",
      "utc_offset                            14 non-null float64\n",
      "is_translator                         0 non-null float64\n",
      "follow_request_sent                   0 non-null float64\n",
      "protected                             0 non-null float64\n",
      "verified                              0 non-null float64\n",
      "notifications                         0 non-null float64\n",
      "description                           14 non-null object\n",
      "contributors_enabled                  0 non-null float64\n",
      "following                             0 non-null float64\n",
      "created_at                            3457 non-null object\n",
      "timestamp                             3457 non-null object\n",
      "crawled_at                            3457 non-null object\n",
      "updated                               3457 non-null object\n",
      "dtypes: float64(12), int64(7), object(21)\n",
      "memory usage: 1.1+ MB\n"
     ]
    }
   ],
   "source": [
    "soc_bot2_users.info()"
   ]
  },
  {
   "cell_type": "code",
   "execution_count": 15,
   "metadata": {},
   "outputs": [
    {
     "name": "stdout",
     "output_type": "stream",
     "text": [
      "<class 'pandas.core.frame.DataFrame'>\n",
      "RangeIndex: 464 entries, 0 to 463\n",
      "Data columns (total 41 columns):\n",
      "id                                    464 non-null int64\n",
      "name                                  464 non-null object\n",
      "screen_name                           464 non-null object\n",
      "statuses_count                        464 non-null int64\n",
      "followers_count                       464 non-null int64\n",
      "friends_count                         464 non-null int64\n",
      "favourites_count                      464 non-null int64\n",
      "listed_count                          464 non-null int64\n",
      "url                                   253 non-null object\n",
      "lang                                  464 non-null object\n",
      "time_zone                             303 non-null object\n",
      "location                              54 non-null object\n",
      "default_profile                       178 non-null float64\n",
      "default_profile_image                 0 non-null float64\n",
      "geo_enabled                           10 non-null float64\n",
      "profile_image_url                     464 non-null object\n",
      "profile_banner_url                    42 non-null object\n",
      "profile_use_background_image          461 non-null float64\n",
      "profile_background_image_url_https    464 non-null object\n",
      "profile_text_color                    464 non-null object\n",
      "profile_image_url_https               464 non-null object\n",
      "profile_sidebar_border_color          464 non-null object\n",
      "profile_background_tile               241 non-null float64\n",
      "profile_sidebar_fill_color            464 non-null object\n",
      "profile_background_image_url          464 non-null object\n",
      "profile_background_color              464 non-null object\n",
      "profile_link_color                    464 non-null object\n",
      "utc_offset                            303 non-null float64\n",
      "is_translator                         0 non-null float64\n",
      "follow_request_sent                   0 non-null float64\n",
      "protected                             0 non-null float64\n",
      "verified                              0 non-null float64\n",
      "notifications                         0 non-null float64\n",
      "description                           460 non-null object\n",
      "contributors_enabled                  0 non-null float64\n",
      "following                             0 non-null float64\n",
      "created_at                            464 non-null object\n",
      "timestamp                             464 non-null object\n",
      "crawled_at                            464 non-null object\n",
      "updated                               464 non-null object\n",
      "test_set_2                            464 non-null int64\n",
      "dtypes: float64(13), int64(7), object(21)\n",
      "memory usage: 148.8+ KB\n"
     ]
    }
   ],
   "source": [
    "soc_bot3_users.info()"
   ]
  },
  {
   "cell_type": "code",
   "execution_count": 16,
   "metadata": {},
   "outputs": [],
   "source": [
    "# Select common columns \n",
    "g_users.drop(['test_set_1','test_set_2'], axis=1, inplace=True)\n",
    "\n",
    "soc_bot1_users.drop('test_set_1', axis=1, inplace=True)\n",
    "soc_bot3_users.drop('test_set_2', axis=1, inplace=True)"
   ]
  },
  {
   "cell_type": "code",
   "execution_count": 17,
   "metadata": {},
   "outputs": [],
   "source": [
    "b_users = pd.concat([soc_bot1_users,soc_bot2_users,soc_bot3_users], ignore_index=True, sort=False)"
   ]
  },
  {
   "cell_type": "code",
   "execution_count": 18,
   "metadata": {},
   "outputs": [],
   "source": [
    "# Create tweet class, 1 for bot and 0 for genuine tweets\n",
    "b_users['class'] = 1\n",
    "g_users['class'] = 0"
   ]
  },
  {
   "cell_type": "code",
   "execution_count": 19,
   "metadata": {},
   "outputs": [],
   "source": [
    "# Concatenate df\n",
    "users = pd.concat([b_users,g_users], ignore_index=True, sort=False)\n",
    "\n",
    "# Randomly shuffle df \n",
    "users = users.reindex(np.random.permutation(users.index))"
   ]
  },
  {
   "cell_type": "code",
   "execution_count": 20,
   "metadata": {},
   "outputs": [
    {
     "data": {
      "text/plain": [
       "(8386, 41)"
      ]
     },
     "execution_count": 20,
     "metadata": {},
     "output_type": "execute_result"
    }
   ],
   "source": [
    "users.shape"
   ]
  },
  {
   "cell_type": "code",
   "execution_count": 21,
   "metadata": {},
   "outputs": [
    {
     "data": {
      "text/html": [
       "<div>\n",
       "<style scoped>\n",
       "    .dataframe tbody tr th:only-of-type {\n",
       "        vertical-align: middle;\n",
       "    }\n",
       "\n",
       "    .dataframe tbody tr th {\n",
       "        vertical-align: top;\n",
       "    }\n",
       "\n",
       "    .dataframe thead th {\n",
       "        text-align: right;\n",
       "    }\n",
       "</style>\n",
       "<table border=\"1\" class=\"dataframe\">\n",
       "  <thead>\n",
       "    <tr style=\"text-align: right;\">\n",
       "      <th></th>\n",
       "      <th>id</th>\n",
       "      <th>name</th>\n",
       "      <th>screen_name</th>\n",
       "      <th>statuses_count</th>\n",
       "      <th>followers_count</th>\n",
       "      <th>friends_count</th>\n",
       "      <th>favourites_count</th>\n",
       "      <th>listed_count</th>\n",
       "      <th>url</th>\n",
       "      <th>lang</th>\n",
       "      <th>...</th>\n",
       "      <th>verified</th>\n",
       "      <th>notifications</th>\n",
       "      <th>description</th>\n",
       "      <th>contributors_enabled</th>\n",
       "      <th>following</th>\n",
       "      <th>created_at</th>\n",
       "      <th>timestamp</th>\n",
       "      <th>crawled_at</th>\n",
       "      <th>updated</th>\n",
       "      <th>class</th>\n",
       "    </tr>\n",
       "  </thead>\n",
       "  <tbody>\n",
       "    <tr>\n",
       "      <th>2966</th>\n",
       "      <td>2350533637</td>\n",
       "      <td>Johnette Papps</td>\n",
       "      <td>JohnettePapps</td>\n",
       "      <td>74</td>\n",
       "      <td>4</td>\n",
       "      <td>44</td>\n",
       "      <td>0</td>\n",
       "      <td>0</td>\n",
       "      <td>NaN</td>\n",
       "      <td>en</td>\n",
       "      <td>...</td>\n",
       "      <td>NaN</td>\n",
       "      <td>NaN</td>\n",
       "      <td>NaN</td>\n",
       "      <td>NaN</td>\n",
       "      <td>NaN</td>\n",
       "      <td>Tue Feb 18 18:47:42 +0000 2014</td>\n",
       "      <td>2014-02-18 19:47:42</td>\n",
       "      <td>2014-05-05 00:21:24</td>\n",
       "      <td>2016-03-15 15:12:45</td>\n",
       "      <td>1</td>\n",
       "    </tr>\n",
       "    <tr>\n",
       "      <th>8234</th>\n",
       "      <td>1559643193</td>\n",
       "      <td>Triston Rich</td>\n",
       "      <td>triston_rich</td>\n",
       "      <td>404</td>\n",
       "      <td>139</td>\n",
       "      <td>172</td>\n",
       "      <td>365</td>\n",
       "      <td>0</td>\n",
       "      <td>NaN</td>\n",
       "      <td>en</td>\n",
       "      <td>...</td>\n",
       "      <td>NaN</td>\n",
       "      <td>NaN</td>\n",
       "      <td>NaN</td>\n",
       "      <td>NaN</td>\n",
       "      <td>NaN</td>\n",
       "      <td>Mon Jul 01 04:23:39 +0000 2013</td>\n",
       "      <td>2013-07-01 06:23:39</td>\n",
       "      <td>2015-05-02 08:37:23</td>\n",
       "      <td>2016-03-15 16:10:36</td>\n",
       "      <td>0</td>\n",
       "    </tr>\n",
       "    <tr>\n",
       "      <th>1287</th>\n",
       "      <td>2352962360</td>\n",
       "      <td>Grazyna Kenan</td>\n",
       "      <td>GrazynaKenan</td>\n",
       "      <td>78</td>\n",
       "      <td>5</td>\n",
       "      <td>34</td>\n",
       "      <td>0</td>\n",
       "      <td>1</td>\n",
       "      <td>NaN</td>\n",
       "      <td>en</td>\n",
       "      <td>...</td>\n",
       "      <td>NaN</td>\n",
       "      <td>NaN</td>\n",
       "      <td>NaN</td>\n",
       "      <td>NaN</td>\n",
       "      <td>NaN</td>\n",
       "      <td>Thu Feb 20 09:03:35 +0000 2014</td>\n",
       "      <td>2014-02-20 10:03:35</td>\n",
       "      <td>2014-05-05 00:21:22</td>\n",
       "      <td>2016-03-15 15:03:43</td>\n",
       "      <td>1</td>\n",
       "    </tr>\n",
       "    <tr>\n",
       "      <th>4014</th>\n",
       "      <td>2384835313</td>\n",
       "      <td>Huong Borella</td>\n",
       "      <td>HuongBorella</td>\n",
       "      <td>42</td>\n",
       "      <td>2</td>\n",
       "      <td>36</td>\n",
       "      <td>0</td>\n",
       "      <td>0</td>\n",
       "      <td>NaN</td>\n",
       "      <td>en</td>\n",
       "      <td>...</td>\n",
       "      <td>NaN</td>\n",
       "      <td>NaN</td>\n",
       "      <td>NaN</td>\n",
       "      <td>NaN</td>\n",
       "      <td>NaN</td>\n",
       "      <td>Wed Mar 12 07:07:23 +0000 2014</td>\n",
       "      <td>2014-03-12 08:07:23</td>\n",
       "      <td>2014-05-04 00:22:13</td>\n",
       "      <td>2016-03-15 15:18:24</td>\n",
       "      <td>1</td>\n",
       "    </tr>\n",
       "    <tr>\n",
       "      <th>2387</th>\n",
       "      <td>2354580744</td>\n",
       "      <td>Jimmie Valli</td>\n",
       "      <td>JimmieValli</td>\n",
       "      <td>63</td>\n",
       "      <td>5</td>\n",
       "      <td>37</td>\n",
       "      <td>0</td>\n",
       "      <td>0</td>\n",
       "      <td>NaN</td>\n",
       "      <td>en</td>\n",
       "      <td>...</td>\n",
       "      <td>NaN</td>\n",
       "      <td>NaN</td>\n",
       "      <td>NaN</td>\n",
       "      <td>NaN</td>\n",
       "      <td>NaN</td>\n",
       "      <td>Fri Feb 21 10:19:20 +0000 2014</td>\n",
       "      <td>2014-02-21 11:19:20</td>\n",
       "      <td>2014-05-05 00:20:56</td>\n",
       "      <td>2016-03-15 15:09:37</td>\n",
       "      <td>1</td>\n",
       "    </tr>\n",
       "  </tbody>\n",
       "</table>\n",
       "<p>5 rows × 41 columns</p>\n",
       "</div>"
      ],
      "text/plain": [
       "              id            name    screen_name  statuses_count  \\\n",
       "2966  2350533637  Johnette Papps  JohnettePapps              74   \n",
       "8234  1559643193    Triston Rich   triston_rich             404   \n",
       "1287  2352962360   Grazyna Kenan   GrazynaKenan              78   \n",
       "4014  2384835313   Huong Borella   HuongBorella              42   \n",
       "2387  2354580744    Jimmie Valli    JimmieValli              63   \n",
       "\n",
       "      followers_count  friends_count  favourites_count  listed_count  url  \\\n",
       "2966                4             44                 0             0  NaN   \n",
       "8234              139            172               365             0  NaN   \n",
       "1287                5             34                 0             1  NaN   \n",
       "4014                2             36                 0             0  NaN   \n",
       "2387                5             37                 0             0  NaN   \n",
       "\n",
       "     lang  ... verified notifications  description  contributors_enabled  \\\n",
       "2966   en  ...      NaN           NaN          NaN                   NaN   \n",
       "8234   en  ...      NaN           NaN          NaN                   NaN   \n",
       "1287   en  ...      NaN           NaN          NaN                   NaN   \n",
       "4014   en  ...      NaN           NaN          NaN                   NaN   \n",
       "2387   en  ...      NaN           NaN          NaN                   NaN   \n",
       "\n",
       "      following                      created_at            timestamp  \\\n",
       "2966        NaN  Tue Feb 18 18:47:42 +0000 2014  2014-02-18 19:47:42   \n",
       "8234        NaN  Mon Jul 01 04:23:39 +0000 2013  2013-07-01 06:23:39   \n",
       "1287        NaN  Thu Feb 20 09:03:35 +0000 2014  2014-02-20 10:03:35   \n",
       "4014        NaN  Wed Mar 12 07:07:23 +0000 2014  2014-03-12 08:07:23   \n",
       "2387        NaN  Fri Feb 21 10:19:20 +0000 2014  2014-02-21 11:19:20   \n",
       "\n",
       "               crawled_at              updated class  \n",
       "2966  2014-05-05 00:21:24  2016-03-15 15:12:45     1  \n",
       "8234  2015-05-02 08:37:23  2016-03-15 16:10:36     0  \n",
       "1287  2014-05-05 00:21:22  2016-03-15 15:03:43     1  \n",
       "4014  2014-05-04 00:22:13  2016-03-15 15:18:24     1  \n",
       "2387  2014-05-05 00:20:56  2016-03-15 15:09:37     1  \n",
       "\n",
       "[5 rows x 41 columns]"
      ]
     },
     "execution_count": 21,
     "metadata": {},
     "output_type": "execute_result"
    }
   ],
   "source": [
    "users.head()"
   ]
  },
  {
   "cell_type": "code",
   "execution_count": 22,
   "metadata": {},
   "outputs": [
    {
     "name": "stdout",
     "output_type": "stream",
     "text": [
      "<class 'pandas.core.frame.DataFrame'>\n",
      "Int64Index: 8386 entries, 2966 to 3092\n",
      "Data columns (total 41 columns):\n",
      "id                                    8386 non-null int64\n",
      "name                                  8385 non-null object\n",
      "screen_name                           8386 non-null object\n",
      "statuses_count                        8386 non-null int64\n",
      "followers_count                       8386 non-null int64\n",
      "friends_count                         8386 non-null int64\n",
      "favourites_count                      8386 non-null int64\n",
      "listed_count                          8386 non-null int64\n",
      "url                                   1551 non-null object\n",
      "lang                                  8386 non-null object\n",
      "time_zone                             3695 non-null object\n",
      "location                              3177 non-null object\n",
      "default_profile                       1370 non-null float64\n",
      "default_profile_image                 60 non-null float64\n",
      "geo_enabled                           2188 non-null float64\n",
      "profile_image_url                     8386 non-null object\n",
      "profile_banner_url                    3299 non-null object\n",
      "profile_use_background_image          7990 non-null float64\n",
      "profile_background_image_url_https    8386 non-null object\n",
      "profile_text_color                    8386 non-null object\n",
      "profile_image_url_https               8386 non-null object\n",
      "profile_sidebar_border_color          8386 non-null object\n",
      "profile_background_tile               5251 non-null float64\n",
      "profile_sidebar_fill_color            8386 non-null object\n",
      "profile_background_image_url          8386 non-null object\n",
      "profile_background_color              8386 non-null object\n",
      "profile_link_color                    8386 non-null object\n",
      "utc_offset                            3695 non-null float64\n",
      "is_translator                         1 non-null float64\n",
      "follow_request_sent                   0 non-null float64\n",
      "protected                             78 non-null float64\n",
      "verified                              11 non-null float64\n",
      "notifications                         0 non-null float64\n",
      "description                           4512 non-null object\n",
      "contributors_enabled                  0 non-null float64\n",
      "following                             0 non-null float64\n",
      "created_at                            8386 non-null object\n",
      "timestamp                             8386 non-null object\n",
      "crawled_at                            8386 non-null object\n",
      "updated                               8386 non-null object\n",
      "class                                 8386 non-null int64\n",
      "dtypes: float64(13), int64(7), object(21)\n",
      "memory usage: 2.7+ MB\n"
     ]
    }
   ],
   "source": [
    "users.info()"
   ]
  },
  {
   "cell_type": "markdown",
   "metadata": {},
   "source": [
    "The Users table contains 8,386 accounts and 41 columns regarding the user's profile, activities, and interaction with other accounts. "
   ]
  },
  {
   "cell_type": "markdown",
   "metadata": {},
   "source": [
    "## Missing Values\n",
    "Now, we will take a look at missing values in each column."
   ]
  },
  {
   "cell_type": "code",
   "execution_count": 23,
   "metadata": {},
   "outputs": [],
   "source": [
    "# Function to calculate missing values by column\n",
    "def missing_values_table(df):\n",
    "        # Total missing values\n",
    "        mis_val = df.isnull().sum()\n",
    "        \n",
    "        # Percentage of missing values\n",
    "        mis_val_percent = 100 * df.isnull().sum() / len(df)\n",
    "        \n",
    "        # Make a table with the results\n",
    "        mis_val_table = pd.concat([mis_val, mis_val_percent], axis=1)\n",
    "        \n",
    "        # Rename the columns\n",
    "        mis_val_table_ren_columns = mis_val_table.rename(\n",
    "        columns = {0 : 'Missing Values', 1 : '% of Total Values'})\n",
    "        \n",
    "        # Sort the table by percentage of missing descending\n",
    "        mis_val_table_ren_columns = mis_val_table_ren_columns[\n",
    "            mis_val_table_ren_columns.iloc[:,1] != 0].sort_values(\n",
    "        '% of Total Values', ascending=False).round(1)\n",
    "        \n",
    "        # Print some summary information\n",
    "        print (\"Your selected dataframe has \" + str(df.shape[1]) + \" columns.\\n\"      \n",
    "            \"There are \" + str(mis_val_table_ren_columns.shape[0]) +\n",
    "              \" columns that have missing values.\")\n",
    "        \n",
    "        # Return the dataframe with missing information\n",
    "        return mis_val_table_ren_columns"
   ]
  },
  {
   "cell_type": "code",
   "execution_count": 24,
   "metadata": {},
   "outputs": [
    {
     "name": "stdout",
     "output_type": "stream",
     "text": [
      "Your selected dataframe has 26 columns.\n",
      "There are 24 columns that have missing values.\n"
     ]
    },
    {
     "data": {
      "text/html": [
       "<div>\n",
       "<style scoped>\n",
       "    .dataframe tbody tr th:only-of-type {\n",
       "        vertical-align: middle;\n",
       "    }\n",
       "\n",
       "    .dataframe tbody tr th {\n",
       "        vertical-align: top;\n",
       "    }\n",
       "\n",
       "    .dataframe thead th {\n",
       "        text-align: right;\n",
       "    }\n",
       "</style>\n",
       "<table border=\"1\" class=\"dataframe\">\n",
       "  <thead>\n",
       "    <tr style=\"text-align: right;\">\n",
       "      <th></th>\n",
       "      <th>Missing Values</th>\n",
       "      <th>% of Total Values</th>\n",
       "    </tr>\n",
       "  </thead>\n",
       "  <tbody>\n",
       "    <tr>\n",
       "      <th>truncated</th>\n",
       "      <td>6296495</td>\n",
       "      <td>100.0</td>\n",
       "    </tr>\n",
       "    <tr>\n",
       "      <th>geo</th>\n",
       "      <td>6296495</td>\n",
       "      <td>100.0</td>\n",
       "    </tr>\n",
       "    <tr>\n",
       "      <th>contributors</th>\n",
       "      <td>6296495</td>\n",
       "      <td>100.0</td>\n",
       "    </tr>\n",
       "    <tr>\n",
       "      <th>favorited</th>\n",
       "      <td>6296495</td>\n",
       "      <td>100.0</td>\n",
       "    </tr>\n",
       "    <tr>\n",
       "      <th>retweeted</th>\n",
       "      <td>6296495</td>\n",
       "      <td>100.0</td>\n",
       "    </tr>\n",
       "    <tr>\n",
       "      <th>possibly_sensitive</th>\n",
       "      <td>6270292</td>\n",
       "      <td>99.6</td>\n",
       "    </tr>\n",
       "    <tr>\n",
       "      <th>place</th>\n",
       "      <td>6169527</td>\n",
       "      <td>98.0</td>\n",
       "    </tr>\n",
       "    <tr>\n",
       "      <th>in_reply_to_screen_name</th>\n",
       "      <td>5295806</td>\n",
       "      <td>84.1</td>\n",
       "    </tr>\n",
       "    <tr>\n",
       "      <th>text</th>\n",
       "      <td>12987</td>\n",
       "      <td>0.2</td>\n",
       "    </tr>\n",
       "    <tr>\n",
       "      <th>source</th>\n",
       "      <td>73</td>\n",
       "      <td>0.0</td>\n",
       "    </tr>\n",
       "    <tr>\n",
       "      <th>crawled_at</th>\n",
       "      <td>1</td>\n",
       "      <td>0.0</td>\n",
       "    </tr>\n",
       "    <tr>\n",
       "      <th>timestamp</th>\n",
       "      <td>1</td>\n",
       "      <td>0.0</td>\n",
       "    </tr>\n",
       "    <tr>\n",
       "      <th>created_at</th>\n",
       "      <td>1</td>\n",
       "      <td>0.0</td>\n",
       "    </tr>\n",
       "    <tr>\n",
       "      <th>num_mentions</th>\n",
       "      <td>1</td>\n",
       "      <td>0.0</td>\n",
       "    </tr>\n",
       "    <tr>\n",
       "      <th>num_urls</th>\n",
       "      <td>1</td>\n",
       "      <td>0.0</td>\n",
       "    </tr>\n",
       "    <tr>\n",
       "      <th>num_hashtags</th>\n",
       "      <td>1</td>\n",
       "      <td>0.0</td>\n",
       "    </tr>\n",
       "    <tr>\n",
       "      <th>reply_count</th>\n",
       "      <td>1</td>\n",
       "      <td>0.0</td>\n",
       "    </tr>\n",
       "    <tr>\n",
       "      <th>favorite_count</th>\n",
       "      <td>1</td>\n",
       "      <td>0.0</td>\n",
       "    </tr>\n",
       "    <tr>\n",
       "      <th>retweet_count</th>\n",
       "      <td>1</td>\n",
       "      <td>0.0</td>\n",
       "    </tr>\n",
       "    <tr>\n",
       "      <th>retweeted_status_id</th>\n",
       "      <td>1</td>\n",
       "      <td>0.0</td>\n",
       "    </tr>\n",
       "    <tr>\n",
       "      <th>in_reply_to_user_id</th>\n",
       "      <td>1</td>\n",
       "      <td>0.0</td>\n",
       "    </tr>\n",
       "    <tr>\n",
       "      <th>in_reply_to_status_id</th>\n",
       "      <td>1</td>\n",
       "      <td>0.0</td>\n",
       "    </tr>\n",
       "    <tr>\n",
       "      <th>user_id</th>\n",
       "      <td>1</td>\n",
       "      <td>0.0</td>\n",
       "    </tr>\n",
       "    <tr>\n",
       "      <th>updated</th>\n",
       "      <td>1</td>\n",
       "      <td>0.0</td>\n",
       "    </tr>\n",
       "  </tbody>\n",
       "</table>\n",
       "</div>"
      ],
      "text/plain": [
       "                         Missing Values  % of Total Values\n",
       "truncated                       6296495              100.0\n",
       "geo                             6296495              100.0\n",
       "contributors                    6296495              100.0\n",
       "favorited                       6296495              100.0\n",
       "retweeted                       6296495              100.0\n",
       "possibly_sensitive              6270292               99.6\n",
       "place                           6169527               98.0\n",
       "in_reply_to_screen_name         5295806               84.1\n",
       "text                              12987                0.2\n",
       "source                               73                0.0\n",
       "crawled_at                            1                0.0\n",
       "timestamp                             1                0.0\n",
       "created_at                            1                0.0\n",
       "num_mentions                          1                0.0\n",
       "num_urls                              1                0.0\n",
       "num_hashtags                          1                0.0\n",
       "reply_count                           1                0.0\n",
       "favorite_count                        1                0.0\n",
       "retweet_count                         1                0.0\n",
       "retweeted_status_id                   1                0.0\n",
       "in_reply_to_user_id                   1                0.0\n",
       "in_reply_to_status_id                 1                0.0\n",
       "user_id                               1                0.0\n",
       "updated                               1                0.0"
      ]
     },
     "execution_count": 24,
     "metadata": {},
     "output_type": "execute_result"
    }
   ],
   "source": [
    "missing_values_table(tweets)"
   ]
  },
  {
   "cell_type": "code",
   "execution_count": 25,
   "metadata": {},
   "outputs": [
    {
     "data": {
      "text/plain": [
       "<matplotlib.axes._subplots.AxesSubplot at 0x1a9200fc50>"
      ]
     },
     "execution_count": 25,
     "metadata": {},
     "output_type": "execute_result"
    },
    {
     "data": {
      "image/png": "[encoded data removed]",
      "text/plain": [
       "<Figure size 1800x720 with 2 Axes>"
      ]
     },
     "metadata": {
      "needs_background": "light"
     },
     "output_type": "display_data"
    }
   ],
   "source": [
    "msno.matrix(tweets)"
   ]
  },
  {
   "cell_type": "markdown",
   "metadata": {},
   "source": [
    "As shown in the matrix, many columns such as truncated, geo, contributors, etc. appear to be missing all datapoints. The data doesn't appear to be missing at random since there is a repetitive pattern between those columns. \n",
    "\n",
    "We will drop columns missing more than 90% of data points and in_reply_to_screen_name since that isn't our focus. Then, we will drop the remaining rows with missing values since that is only a small percentage of the dataset."
   ]
  },
  {
   "cell_type": "code",
   "execution_count": 26,
   "metadata": {},
   "outputs": [
    {
     "name": "stdout",
     "output_type": "stream",
     "text": [
      "Your selected dataframe has 26 columns.\n",
      "There are 24 columns that have missing values.\n",
      "We will drop 8 columns.\n",
      "Drop columns:  ['truncated', 'geo', 'contributors', 'favorited', 'retweeted', 'possibly_sensitive', 'place', 'in_reply_to_screen_name']\n"
     ]
    }
   ],
   "source": [
    "# Get columns with >= 80% missing\n",
    "missing_df = missing_values_table(tweets)\n",
    "missing_columns = list(missing_df[missing_df['% of Total Values'] >= 80].index)\n",
    "print('We will drop %d columns.' % len(missing_columns))\n",
    "print('Drop columns: ', missing_columns)"
   ]
  },
  {
   "cell_type": "code",
   "execution_count": 27,
   "metadata": {},
   "outputs": [],
   "source": [
    "# Drop columns with more than 80% missing values\n",
    "tweets.drop(labels=['truncated', 'geo', 'contributors', 'favorited', 'retweeted', 'possibly_sensitive', 'place','in_reply_to_screen_name'], axis=1, inplace=True)"
   ]
  },
  {
   "cell_type": "code",
   "execution_count": 28,
   "metadata": {},
   "outputs": [],
   "source": [
    "# Drop all rows that have any NaN values\n",
    "tweets = tweets.dropna()\n",
    "tweets = tweets.reset_index(drop=True)"
   ]
  },
  {
   "cell_type": "code",
   "execution_count": 29,
   "metadata": {},
   "outputs": [
    {
     "name": "stdout",
     "output_type": "stream",
     "text": [
      "Your selected dataframe has 18 columns.\n",
      "There are 0 columns that have missing values.\n"
     ]
    },
    {
     "data": {
      "text/html": [
       "<div>\n",
       "<style scoped>\n",
       "    .dataframe tbody tr th:only-of-type {\n",
       "        vertical-align: middle;\n",
       "    }\n",
       "\n",
       "    .dataframe tbody tr th {\n",
       "        vertical-align: top;\n",
       "    }\n",
       "\n",
       "    .dataframe thead th {\n",
       "        text-align: right;\n",
       "    }\n",
       "</style>\n",
       "<table border=\"1\" class=\"dataframe\">\n",
       "  <thead>\n",
       "    <tr style=\"text-align: right;\">\n",
       "      <th></th>\n",
       "      <th>Missing Values</th>\n",
       "      <th>% of Total Values</th>\n",
       "    </tr>\n",
       "  </thead>\n",
       "  <tbody>\n",
       "  </tbody>\n",
       "</table>\n",
       "</div>"
      ],
      "text/plain": [
       "Empty DataFrame\n",
       "Columns: [Missing Values, % of Total Values]\n",
       "Index: []"
      ]
     },
     "execution_count": 29,
     "metadata": {},
     "output_type": "execute_result"
    }
   ],
   "source": [
    "missing_values_table(tweets)"
   ]
  },
  {
   "cell_type": "markdown",
   "metadata": {},
   "source": [
    "Next, we'll take a look at the users table. "
   ]
  },
  {
   "cell_type": "code",
   "execution_count": 30,
   "metadata": {},
   "outputs": [
    {
     "name": "stdout",
     "output_type": "stream",
     "text": [
      "Your selected dataframe has 41 columns.\n",
      "There are 19 columns that have missing values.\n"
     ]
    },
    {
     "data": {
      "text/html": [
       "<div>\n",
       "<style scoped>\n",
       "    .dataframe tbody tr th:only-of-type {\n",
       "        vertical-align: middle;\n",
       "    }\n",
       "\n",
       "    .dataframe tbody tr th {\n",
       "        vertical-align: top;\n",
       "    }\n",
       "\n",
       "    .dataframe thead th {\n",
       "        text-align: right;\n",
       "    }\n",
       "</style>\n",
       "<table border=\"1\" class=\"dataframe\">\n",
       "  <thead>\n",
       "    <tr style=\"text-align: right;\">\n",
       "      <th></th>\n",
       "      <th>Missing Values</th>\n",
       "      <th>% of Total Values</th>\n",
       "    </tr>\n",
       "  </thead>\n",
       "  <tbody>\n",
       "    <tr>\n",
       "      <th>following</th>\n",
       "      <td>8386</td>\n",
       "      <td>100.0</td>\n",
       "    </tr>\n",
       "    <tr>\n",
       "      <th>contributors_enabled</th>\n",
       "      <td>8386</td>\n",
       "      <td>100.0</td>\n",
       "    </tr>\n",
       "    <tr>\n",
       "      <th>follow_request_sent</th>\n",
       "      <td>8386</td>\n",
       "      <td>100.0</td>\n",
       "    </tr>\n",
       "    <tr>\n",
       "      <th>notifications</th>\n",
       "      <td>8386</td>\n",
       "      <td>100.0</td>\n",
       "    </tr>\n",
       "    <tr>\n",
       "      <th>is_translator</th>\n",
       "      <td>8385</td>\n",
       "      <td>100.0</td>\n",
       "    </tr>\n",
       "    <tr>\n",
       "      <th>verified</th>\n",
       "      <td>8375</td>\n",
       "      <td>99.9</td>\n",
       "    </tr>\n",
       "    <tr>\n",
       "      <th>default_profile_image</th>\n",
       "      <td>8326</td>\n",
       "      <td>99.3</td>\n",
       "    </tr>\n",
       "    <tr>\n",
       "      <th>protected</th>\n",
       "      <td>8308</td>\n",
       "      <td>99.1</td>\n",
       "    </tr>\n",
       "    <tr>\n",
       "      <th>default_profile</th>\n",
       "      <td>7016</td>\n",
       "      <td>83.7</td>\n",
       "    </tr>\n",
       "    <tr>\n",
       "      <th>url</th>\n",
       "      <td>6835</td>\n",
       "      <td>81.5</td>\n",
       "    </tr>\n",
       "    <tr>\n",
       "      <th>geo_enabled</th>\n",
       "      <td>6198</td>\n",
       "      <td>73.9</td>\n",
       "    </tr>\n",
       "    <tr>\n",
       "      <th>location</th>\n",
       "      <td>5209</td>\n",
       "      <td>62.1</td>\n",
       "    </tr>\n",
       "    <tr>\n",
       "      <th>profile_banner_url</th>\n",
       "      <td>5087</td>\n",
       "      <td>60.7</td>\n",
       "    </tr>\n",
       "    <tr>\n",
       "      <th>time_zone</th>\n",
       "      <td>4691</td>\n",
       "      <td>55.9</td>\n",
       "    </tr>\n",
       "    <tr>\n",
       "      <th>utc_offset</th>\n",
       "      <td>4691</td>\n",
       "      <td>55.9</td>\n",
       "    </tr>\n",
       "    <tr>\n",
       "      <th>description</th>\n",
       "      <td>3874</td>\n",
       "      <td>46.2</td>\n",
       "    </tr>\n",
       "    <tr>\n",
       "      <th>profile_background_tile</th>\n",
       "      <td>3135</td>\n",
       "      <td>37.4</td>\n",
       "    </tr>\n",
       "    <tr>\n",
       "      <th>profile_use_background_image</th>\n",
       "      <td>396</td>\n",
       "      <td>4.7</td>\n",
       "    </tr>\n",
       "    <tr>\n",
       "      <th>name</th>\n",
       "      <td>1</td>\n",
       "      <td>0.0</td>\n",
       "    </tr>\n",
       "  </tbody>\n",
       "</table>\n",
       "</div>"
      ],
      "text/plain": [
       "                              Missing Values  % of Total Values\n",
       "following                               8386              100.0\n",
       "contributors_enabled                    8386              100.0\n",
       "follow_request_sent                     8386              100.0\n",
       "notifications                           8386              100.0\n",
       "is_translator                           8385              100.0\n",
       "verified                                8375               99.9\n",
       "default_profile_image                   8326               99.3\n",
       "protected                               8308               99.1\n",
       "default_profile                         7016               83.7\n",
       "url                                     6835               81.5\n",
       "geo_enabled                             6198               73.9\n",
       "location                                5209               62.1\n",
       "profile_banner_url                      5087               60.7\n",
       "time_zone                               4691               55.9\n",
       "utc_offset                              4691               55.9\n",
       "description                             3874               46.2\n",
       "profile_background_tile                 3135               37.4\n",
       "profile_use_background_image             396                4.7\n",
       "name                                       1                0.0"
      ]
     },
     "execution_count": 30,
     "metadata": {},
     "output_type": "execute_result"
    }
   ],
   "source": [
    "missing_values_table(users)"
   ]
  },
  {
   "cell_type": "code",
   "execution_count": 31,
   "metadata": {},
   "outputs": [
    {
     "data": {
      "text/plain": [
       "<matplotlib.axes._subplots.AxesSubplot at 0x1ae9918b38>"
      ]
     },
     "execution_count": 31,
     "metadata": {},
     "output_type": "execute_result"
    },
    {
     "data": {
      "image/png": "[encoded data removed]",
      "text/plain": [
       "<Figure size 1800x720 with 2 Axes>"
      ]
     },
     "metadata": {
      "needs_background": "light"
     },
     "output_type": "display_data"
    }
   ],
   "source": [
    "msno.matrix(users)"
   ]
  },
  {
   "cell_type": "markdown",
   "metadata": {},
   "source": [
    "Similar to the Tweets table, several columns such as following, contributers_enabled, and follow_request_sent appear to be almost or completely missing. Other columns, like time_zone and utc_offset, appear to be missing data at the same indices, indicating a dependency between those features. \n",
    "\n",
    "Due to the type of the dataset, we are unable to provide an estimate for the missing values. Columns with more than 30% missing data will be dropped. Then, rows with nulls will also be dropped. \n"
   ]
  },
  {
   "cell_type": "code",
   "execution_count": 32,
   "metadata": {},
   "outputs": [
    {
     "name": "stdout",
     "output_type": "stream",
     "text": [
      "Your selected dataframe has 41 columns.\n",
      "There are 19 columns that have missing values.\n",
      "We will drop 17 columns.\n",
      "Drop columns:  ['following', 'contributors_enabled', 'follow_request_sent', 'notifications', 'is_translator', 'verified', 'default_profile_image', 'protected', 'default_profile', 'url', 'geo_enabled', 'location', 'profile_banner_url', 'time_zone', 'utc_offset', 'description', 'profile_background_tile']\n"
     ]
    }
   ],
   "source": [
    "# Get columns with >= 30% missing\n",
    "missing_df = missing_values_table(users)\n",
    "missing_columns = list(missing_df[missing_df['% of Total Values'] >= 30].index)\n",
    "print('We will drop %d columns.' % len(missing_columns))\n",
    "print('Drop columns: ', missing_columns)"
   ]
  },
  {
   "cell_type": "code",
   "execution_count": 33,
   "metadata": {},
   "outputs": [],
   "source": [
    "# Drop columns with more than 30% missing values\n",
    "users.drop(labels=['following', 'contributors_enabled', 'follow_request_sent', 'notifications', 'is_translator', 'verified', 'default_profile_image', 'protected', 'default_profile', 'url', 'geo_enabled', 'location', 'profile_banner_url', 'time_zone', 'utc_offset', 'description', 'profile_background_tile'], axis=1, inplace=True)"
   ]
  },
  {
   "cell_type": "code",
   "execution_count": 34,
   "metadata": {},
   "outputs": [],
   "source": [
    "# Drop all rows that have any NaN values\n",
    "users = users.dropna()\n",
    "users = users.reset_index(drop=True)"
   ]
  },
  {
   "cell_type": "code",
   "execution_count": 35,
   "metadata": {},
   "outputs": [
    {
     "name": "stdout",
     "output_type": "stream",
     "text": [
      "Your selected dataframe has 24 columns.\n",
      "There are 0 columns that have missing values.\n"
     ]
    },
    {
     "data": {
      "text/html": [
       "<div>\n",
       "<style scoped>\n",
       "    .dataframe tbody tr th:only-of-type {\n",
       "        vertical-align: middle;\n",
       "    }\n",
       "\n",
       "    .dataframe tbody tr th {\n",
       "        vertical-align: top;\n",
       "    }\n",
       "\n",
       "    .dataframe thead th {\n",
       "        text-align: right;\n",
       "    }\n",
       "</style>\n",
       "<table border=\"1\" class=\"dataframe\">\n",
       "  <thead>\n",
       "    <tr style=\"text-align: right;\">\n",
       "      <th></th>\n",
       "      <th>Missing Values</th>\n",
       "      <th>% of Total Values</th>\n",
       "    </tr>\n",
       "  </thead>\n",
       "  <tbody>\n",
       "  </tbody>\n",
       "</table>\n",
       "</div>"
      ],
      "text/plain": [
       "Empty DataFrame\n",
       "Columns: [Missing Values, % of Total Values]\n",
       "Index: []"
      ]
     },
     "execution_count": 35,
     "metadata": {},
     "output_type": "execute_result"
    }
   ],
   "source": [
    "missing_values_table(users)"
   ]
  },
  {
   "cell_type": "markdown",
   "metadata": {},
   "source": [
    "## Reassigning data types "
   ]
  },
  {
   "cell_type": "code",
   "execution_count": 36,
   "metadata": {},
   "outputs": [],
   "source": [
    "cols = ['user_id','in_reply_to_status_id','in_reply_to_user_id','retweeted_status_id','retweet_count','reply_count','favorite_count','num_hashtags','num_urls','num_mentions']\n",
    "tweets[cols] = tweets[cols].astype('int64')"
   ]
  },
  {
   "cell_type": "code",
   "execution_count": 37,
   "metadata": {},
   "outputs": [],
   "source": [
    "users['profile_use_background_image'] = users['profile_use_background_image'].astype('int64')"
   ]
  },
  {
   "cell_type": "markdown",
   "metadata": {},
   "source": [
    "### Examine 'user_id' in Tweets table\n",
    "Before we continue, let's confirm whether user ids in the Tweets table are unique to each account. First, we'll partition the dataset by class and then merge on _user_id_ to see if there is overlap. \n"
   ]
  },
  {
   "cell_type": "code",
   "execution_count": 38,
   "metadata": {},
   "outputs": [],
   "source": [
    "# Create df for user class\n",
    "bots = tweets.loc[tweets['class']==1]\n",
    "gen = tweets.loc[tweets['class']==0]"
   ]
  },
  {
   "cell_type": "code",
   "execution_count": 39,
   "metadata": {},
   "outputs": [],
   "source": [
    "bots = pd.DataFrame(bots)\n",
    "gen = pd.DataFrame(gen)"
   ]
  },
  {
   "cell_type": "code",
   "execution_count": 40,
   "metadata": {},
   "outputs": [],
   "source": [
    "merge = bots.merge(gen, on='user_id')"
   ]
  },
  {
   "cell_type": "code",
   "execution_count": 41,
   "metadata": {},
   "outputs": [
    {
     "name": "stdout",
     "output_type": "stream",
     "text": [
      "Empty DataFrame\n",
      "Columns: [id_x, text_x, source_x, user_id, in_reply_to_status_id_x, in_reply_to_user_id_x, retweeted_status_id_x, retweet_count_x, reply_count_x, favorite_count_x, num_hashtags_x, num_urls_x, num_mentions_x, created_at_x, timestamp_x, crawled_at_x, updated_x, class_x, id_y, text_y, source_y, in_reply_to_status_id_y, in_reply_to_user_id_y, retweeted_status_id_y, retweet_count_y, reply_count_y, favorite_count_y, num_hashtags_y, num_urls_y, num_mentions_y, created_at_y, timestamp_y, crawled_at_y, updated_y, class_y]\n",
      "Index: []\n",
      "\n",
      "[0 rows x 35 columns]\n"
     ]
    }
   ],
   "source": [
    "print(merge)"
   ]
  },
  {
   "cell_type": "markdown",
   "metadata": {},
   "source": [
    "Looks like each _user_id_ is specific to each class. We'll also check if the unique amount of _user_id_ for each class adds up to the total _user_id_ of the dataset. "
   ]
  },
  {
   "cell_type": "code",
   "execution_count": 42,
   "metadata": {},
   "outputs": [
    {
     "data": {
      "text/plain": [
       "5995"
      ]
     },
     "execution_count": 42,
     "metadata": {},
     "output_type": "execute_result"
    }
   ],
   "source": [
    "# Total user_id count \n",
    "len(tweets['user_id'].unique().tolist())"
   ]
  },
  {
   "cell_type": "code",
   "execution_count": 43,
   "metadata": {},
   "outputs": [
    {
     "data": {
      "text/plain": [
       "4912"
      ]
     },
     "execution_count": 43,
     "metadata": {},
     "output_type": "execute_result"
    }
   ],
   "source": [
    "# Number of unique user accounts\n",
    "len(bots['user_id'].unique().tolist())"
   ]
  },
  {
   "cell_type": "code",
   "execution_count": 44,
   "metadata": {},
   "outputs": [
    {
     "data": {
      "text/plain": [
       "1083"
      ]
     },
     "execution_count": 44,
     "metadata": {},
     "output_type": "execute_result"
    }
   ],
   "source": [
    "# Number of unique user accounts\n",
    "len(gen['user_id'].unique().tolist())"
   ]
  },
  {
   "cell_type": "code",
   "execution_count": 45,
   "metadata": {},
   "outputs": [
    {
     "name": "stdout",
     "output_type": "stream",
     "text": [
      "5995\n"
     ]
    }
   ],
   "source": [
    "print((len(bots['user_id'].unique().tolist())+(len(gen['user_id'].unique().tolist()))))"
   ]
  },
  {
   "cell_type": "markdown",
   "metadata": {},
   "source": [
    "Here, we can see there are 4,912 bot users and 1083 human users that make make up 5,995 total unique accounts. "
   ]
  },
  {
   "cell_type": "markdown",
   "metadata": {},
   "source": [
    "### Creating Time Series \n",
    "\n",
    "Time series data is used when we want to analyze or explore variation over time. This is useful when exploring Twitter text data if we want to track the prevalence of a word or set of words.\n",
    "\n",
    "Let's convert timestamp into time datatype. "
   ]
  },
  {
   "cell_type": "code",
   "execution_count": 46,
   "metadata": {},
   "outputs": [
    {
     "name": "stdout",
     "output_type": "stream",
     "text": [
      "0    Fri Oct 31 19:53:00 +0000 2014\n",
      "1    Sun Apr 19 18:41:46 +0000 2015\n",
      "2    Tue Aug 27 03:23:23 +0000 2013\n",
      "3    Thu Oct 09 06:41:02 +0000 2014\n",
      "4    Sun Jul 20 18:57:28 +0000 2014\n",
      "Name: created_at, dtype: object\n"
     ]
    }
   ],
   "source": [
    "# Print created_at to see the original format of datetime in Twitter data\n",
    "print(tweets['created_at'].head())"
   ]
  },
  {
   "cell_type": "code",
   "execution_count": 47,
   "metadata": {},
   "outputs": [],
   "source": [
    "# Convert the time columns to np.datetime object\n",
    "tweets['timestamp'] = pd.to_datetime(tweets['timestamp'])"
   ]
  },
  {
   "cell_type": "code",
   "execution_count": 48,
   "metadata": {},
   "outputs": [],
   "source": [
    "tweets['created_at'] = pd.to_datetime(tweets['created_at'])"
   ]
  },
  {
   "cell_type": "code",
   "execution_count": 49,
   "metadata": {},
   "outputs": [],
   "source": [
    "tweets['crawled_at'] = pd.to_datetime(tweets['crawled_at'])"
   ]
  },
  {
   "cell_type": "code",
   "execution_count": 50,
   "metadata": {},
   "outputs": [],
   "source": [
    "tweets['updated'] = pd.to_datetime(tweets['updated'])"
   ]
  },
  {
   "cell_type": "code",
   "execution_count": 51,
   "metadata": {},
   "outputs": [
    {
     "name": "stdout",
     "output_type": "stream",
     "text": [
      "0   2014-10-31 19:53:00+00:00\n",
      "1   2015-04-19 18:41:46+00:00\n",
      "2   2013-08-27 03:23:23+00:00\n",
      "3   2014-10-09 06:41:02+00:00\n",
      "4   2014-07-20 18:57:28+00:00\n",
      "Name: created_at, dtype: datetime64[ns, UTC]\n"
     ]
    }
   ],
   "source": [
    "# Print created_at to see new format\n",
    "print(tweets['created_at'].head())"
   ]
  },
  {
   "cell_type": "markdown",
   "metadata": {},
   "source": [
    "Now, let's do the same for the users table."
   ]
  },
  {
   "cell_type": "code",
   "execution_count": 52,
   "metadata": {},
   "outputs": [],
   "source": [
    "# Convert the created_at column to np.datetime object\n",
    "users['timestamp'] = pd.to_datetime(users['timestamp'])"
   ]
  },
  {
   "cell_type": "code",
   "execution_count": 53,
   "metadata": {},
   "outputs": [],
   "source": [
    "users['created_at'] = pd.to_datetime(users['created_at'])"
   ]
  },
  {
   "cell_type": "code",
   "execution_count": 54,
   "metadata": {},
   "outputs": [],
   "source": [
    "users['crawled_at'] = pd.to_datetime(users['crawled_at'])"
   ]
  },
  {
   "cell_type": "code",
   "execution_count": 55,
   "metadata": {},
   "outputs": [],
   "source": [
    "users['updated'] = pd.to_datetime(users['updated'])"
   ]
  },
  {
   "cell_type": "markdown",
   "metadata": {},
   "source": [
    "Let's take a look at our clean data before we save it. "
   ]
  },
  {
   "cell_type": "code",
   "execution_count": 56,
   "metadata": {},
   "outputs": [
    {
     "data": {
      "text/html": [
       "<div>\n",
       "<style scoped>\n",
       "    .dataframe tbody tr th:only-of-type {\n",
       "        vertical-align: middle;\n",
       "    }\n",
       "\n",
       "    .dataframe tbody tr th {\n",
       "        vertical-align: top;\n",
       "    }\n",
       "\n",
       "    .dataframe thead th {\n",
       "        text-align: right;\n",
       "    }\n",
       "</style>\n",
       "<table border=\"1\" class=\"dataframe\">\n",
       "  <thead>\n",
       "    <tr style=\"text-align: right;\">\n",
       "      <th></th>\n",
       "      <th>id</th>\n",
       "      <th>text</th>\n",
       "      <th>source</th>\n",
       "      <th>user_id</th>\n",
       "      <th>in_reply_to_status_id</th>\n",
       "      <th>in_reply_to_user_id</th>\n",
       "      <th>retweeted_status_id</th>\n",
       "      <th>retweet_count</th>\n",
       "      <th>reply_count</th>\n",
       "      <th>favorite_count</th>\n",
       "      <th>num_hashtags</th>\n",
       "      <th>num_urls</th>\n",
       "      <th>num_mentions</th>\n",
       "      <th>created_at</th>\n",
       "      <th>timestamp</th>\n",
       "      <th>crawled_at</th>\n",
       "      <th>updated</th>\n",
       "      <th>class</th>\n",
       "    </tr>\n",
       "  </thead>\n",
       "  <tbody>\n",
       "    <tr>\n",
       "      <th>0</th>\n",
       "      <td>528273451556298752</td>\n",
       "      <td>http://t.co/EQFRnAUDVs</td>\n",
       "      <td>&lt;a href=\"http://www.fulviocoloretwit.com\" rel=...</td>\n",
       "      <td>466449824</td>\n",
       "      <td>0</td>\n",
       "      <td>0</td>\n",
       "      <td>0</td>\n",
       "      <td>0</td>\n",
       "      <td>0</td>\n",
       "      <td>0</td>\n",
       "      <td>0</td>\n",
       "      <td>1</td>\n",
       "      <td>0</td>\n",
       "      <td>2014-10-31 19:53:00+00:00</td>\n",
       "      <td>2014-10-31 20:53:00</td>\n",
       "      <td>2014-11-13 08:11:44</td>\n",
       "      <td>2014-11-13 08:11:44</td>\n",
       "      <td>1</td>\n",
       "    </tr>\n",
       "    <tr>\n",
       "      <th>1</th>\n",
       "      <td>589861464631980032</td>\n",
       "      <td>RT @GirIyTattoos: http://t.co/hFXu9Yz6RV</td>\n",
       "      <td>&lt;a href=\"http://twitter.com/download/android\" ...</td>\n",
       "      <td>2290983830</td>\n",
       "      <td>0</td>\n",
       "      <td>0</td>\n",
       "      <td>566731224149147648</td>\n",
       "      <td>406</td>\n",
       "      <td>0</td>\n",
       "      <td>0</td>\n",
       "      <td>0</td>\n",
       "      <td>0</td>\n",
       "      <td>1</td>\n",
       "      <td>2015-04-19 18:41:46+00:00</td>\n",
       "      <td>2015-04-19 20:41:46</td>\n",
       "      <td>2015-05-01 15:55:25</td>\n",
       "      <td>2015-05-01 15:55:25</td>\n",
       "      <td>0</td>\n",
       "    </tr>\n",
       "    <tr>\n",
       "      <th>2</th>\n",
       "      <td>372197626466557952</td>\n",
       "      <td>\"Soltanto alla fine della conoscenza di tutte ...</td>\n",
       "      <td>&lt;a href=\"http://tweetadder.com\" rel=\"nofollow\"...</td>\n",
       "      <td>575716477</td>\n",
       "      <td>0</td>\n",
       "      <td>0</td>\n",
       "      <td>0</td>\n",
       "      <td>0</td>\n",
       "      <td>0</td>\n",
       "      <td>0</td>\n",
       "      <td>0</td>\n",
       "      <td>0</td>\n",
       "      <td>0</td>\n",
       "      <td>2013-08-27 03:23:23+00:00</td>\n",
       "      <td>2013-08-27 05:23:23</td>\n",
       "      <td>2014-11-13 13:21:01</td>\n",
       "      <td>2014-11-13 13:21:01</td>\n",
       "      <td>1</td>\n",
       "    </tr>\n",
       "    <tr>\n",
       "      <th>3</th>\n",
       "      <td>520101615509200896</td>\n",
       "      <td>The designated hitter rule is like letting som...</td>\n",
       "      <td>&lt;a href=\"http://tweetadder.com\" rel=\"nofollow\"...</td>\n",
       "      <td>326236752</td>\n",
       "      <td>0</td>\n",
       "      <td>0</td>\n",
       "      <td>0</td>\n",
       "      <td>0</td>\n",
       "      <td>0</td>\n",
       "      <td>0</td>\n",
       "      <td>0</td>\n",
       "      <td>0</td>\n",
       "      <td>0</td>\n",
       "      <td>2014-10-09 06:41:02+00:00</td>\n",
       "      <td>2014-10-09 08:41:02</td>\n",
       "      <td>2014-11-13 01:02:23</td>\n",
       "      <td>2014-11-13 01:02:23</td>\n",
       "      <td>1</td>\n",
       "    </tr>\n",
       "    <tr>\n",
       "      <th>4</th>\n",
       "      <td>490933527677243393</td>\n",
       "      <td>I medici scrivono male così i pazienti non cap...</td>\n",
       "      <td>&lt;a href=\"http://www.NonSoloGossip.it\" rel=\"nof...</td>\n",
       "      <td>564249598</td>\n",
       "      <td>0</td>\n",
       "      <td>0</td>\n",
       "      <td>0</td>\n",
       "      <td>37</td>\n",
       "      <td>0</td>\n",
       "      <td>57</td>\n",
       "      <td>0</td>\n",
       "      <td>0</td>\n",
       "      <td>0</td>\n",
       "      <td>2014-07-20 18:57:28+00:00</td>\n",
       "      <td>2014-07-20 20:57:28</td>\n",
       "      <td>2014-11-13 12:47:31</td>\n",
       "      <td>2014-11-13 12:47:31</td>\n",
       "      <td>1</td>\n",
       "    </tr>\n",
       "  </tbody>\n",
       "</table>\n",
       "</div>"
      ],
      "text/plain": [
       "                   id                                               text  \\\n",
       "0  528273451556298752                             http://t.co/EQFRnAUDVs   \n",
       "1  589861464631980032           RT @GirIyTattoos: http://t.co/hFXu9Yz6RV   \n",
       "2  372197626466557952  \"Soltanto alla fine della conoscenza di tutte ...   \n",
       "3  520101615509200896  The designated hitter rule is like letting som...   \n",
       "4  490933527677243393  I medici scrivono male così i pazienti non cap...   \n",
       "\n",
       "                                              source     user_id  \\\n",
       "0  <a href=\"http://www.fulviocoloretwit.com\" rel=...   466449824   \n",
       "1  <a href=\"http://twitter.com/download/android\" ...  2290983830   \n",
       "2  <a href=\"http://tweetadder.com\" rel=\"nofollow\"...   575716477   \n",
       "3  <a href=\"http://tweetadder.com\" rel=\"nofollow\"...   326236752   \n",
       "4  <a href=\"http://www.NonSoloGossip.it\" rel=\"nof...   564249598   \n",
       "\n",
       "   in_reply_to_status_id  in_reply_to_user_id  retweeted_status_id  \\\n",
       "0                      0                    0                    0   \n",
       "1                      0                    0   566731224149147648   \n",
       "2                      0                    0                    0   \n",
       "3                      0                    0                    0   \n",
       "4                      0                    0                    0   \n",
       "\n",
       "   retweet_count  reply_count  favorite_count  num_hashtags  num_urls  \\\n",
       "0              0            0               0             0         1   \n",
       "1            406            0               0             0         0   \n",
       "2              0            0               0             0         0   \n",
       "3              0            0               0             0         0   \n",
       "4             37            0              57             0         0   \n",
       "\n",
       "   num_mentions                created_at           timestamp  \\\n",
       "0             0 2014-10-31 19:53:00+00:00 2014-10-31 20:53:00   \n",
       "1             1 2015-04-19 18:41:46+00:00 2015-04-19 20:41:46   \n",
       "2             0 2013-08-27 03:23:23+00:00 2013-08-27 05:23:23   \n",
       "3             0 2014-10-09 06:41:02+00:00 2014-10-09 08:41:02   \n",
       "4             0 2014-07-20 18:57:28+00:00 2014-07-20 20:57:28   \n",
       "\n",
       "           crawled_at             updated  class  \n",
       "0 2014-11-13 08:11:44 2014-11-13 08:11:44      1  \n",
       "1 2015-05-01 15:55:25 2015-05-01 15:55:25      0  \n",
       "2 2014-11-13 13:21:01 2014-11-13 13:21:01      1  \n",
       "3 2014-11-13 01:02:23 2014-11-13 01:02:23      1  \n",
       "4 2014-11-13 12:47:31 2014-11-13 12:47:31      1  "
      ]
     },
     "execution_count": 56,
     "metadata": {},
     "output_type": "execute_result"
    }
   ],
   "source": [
    "tweets.head()"
   ]
  },
  {
   "cell_type": "code",
   "execution_count": 57,
   "metadata": {},
   "outputs": [
    {
     "data": {
      "text/html": [
       "<div>\n",
       "<style scoped>\n",
       "    .dataframe tbody tr th:only-of-type {\n",
       "        vertical-align: middle;\n",
       "    }\n",
       "\n",
       "    .dataframe tbody tr th {\n",
       "        vertical-align: top;\n",
       "    }\n",
       "\n",
       "    .dataframe thead th {\n",
       "        text-align: right;\n",
       "    }\n",
       "</style>\n",
       "<table border=\"1\" class=\"dataframe\">\n",
       "  <thead>\n",
       "    <tr style=\"text-align: right;\">\n",
       "      <th></th>\n",
       "      <th>id</th>\n",
       "      <th>name</th>\n",
       "      <th>screen_name</th>\n",
       "      <th>statuses_count</th>\n",
       "      <th>followers_count</th>\n",
       "      <th>friends_count</th>\n",
       "      <th>favourites_count</th>\n",
       "      <th>listed_count</th>\n",
       "      <th>lang</th>\n",
       "      <th>profile_image_url</th>\n",
       "      <th>...</th>\n",
       "      <th>profile_sidebar_border_color</th>\n",
       "      <th>profile_sidebar_fill_color</th>\n",
       "      <th>profile_background_image_url</th>\n",
       "      <th>profile_background_color</th>\n",
       "      <th>profile_link_color</th>\n",
       "      <th>created_at</th>\n",
       "      <th>timestamp</th>\n",
       "      <th>crawled_at</th>\n",
       "      <th>updated</th>\n",
       "      <th>class</th>\n",
       "    </tr>\n",
       "  </thead>\n",
       "  <tbody>\n",
       "    <tr>\n",
       "      <th>0</th>\n",
       "      <td>2350533637</td>\n",
       "      <td>Johnette Papps</td>\n",
       "      <td>JohnettePapps</td>\n",
       "      <td>74</td>\n",
       "      <td>4</td>\n",
       "      <td>44</td>\n",
       "      <td>0</td>\n",
       "      <td>0</td>\n",
       "      <td>en</td>\n",
       "      <td>http://pbs.twimg.com/profile_images/4365505334...</td>\n",
       "      <td>...</td>\n",
       "      <td>FFFFFF</td>\n",
       "      <td>DDEEF6</td>\n",
       "      <td>http://pbs.twimg.com/profile_background_images...</td>\n",
       "      <td>0000FF</td>\n",
       "      <td>0000FF</td>\n",
       "      <td>2014-02-18 18:47:42+00:00</td>\n",
       "      <td>2014-02-18 19:47:42</td>\n",
       "      <td>2014-05-05 00:21:24</td>\n",
       "      <td>2016-03-15 15:12:45</td>\n",
       "      <td>1</td>\n",
       "    </tr>\n",
       "    <tr>\n",
       "      <th>1</th>\n",
       "      <td>1559643193</td>\n",
       "      <td>Triston Rich</td>\n",
       "      <td>triston_rich</td>\n",
       "      <td>404</td>\n",
       "      <td>139</td>\n",
       "      <td>172</td>\n",
       "      <td>365</td>\n",
       "      <td>0</td>\n",
       "      <td>en</td>\n",
       "      <td>http://pbs.twimg.com/profile_images/5174839328...</td>\n",
       "      <td>...</td>\n",
       "      <td>C0DEED</td>\n",
       "      <td>DDEEF6</td>\n",
       "      <td>http://abs.twimg.com/images/themes/theme1/bg.png</td>\n",
       "      <td>C0DEED</td>\n",
       "      <td>0084B4</td>\n",
       "      <td>2013-07-01 04:23:39+00:00</td>\n",
       "      <td>2013-07-01 06:23:39</td>\n",
       "      <td>2015-05-02 08:37:23</td>\n",
       "      <td>2016-03-15 16:10:36</td>\n",
       "      <td>0</td>\n",
       "    </tr>\n",
       "    <tr>\n",
       "      <th>2</th>\n",
       "      <td>2352962360</td>\n",
       "      <td>Grazyna Kenan</td>\n",
       "      <td>GrazynaKenan</td>\n",
       "      <td>78</td>\n",
       "      <td>5</td>\n",
       "      <td>34</td>\n",
       "      <td>0</td>\n",
       "      <td>1</td>\n",
       "      <td>en</td>\n",
       "      <td>http://pbs.twimg.com/profile_images/4373675064...</td>\n",
       "      <td>...</td>\n",
       "      <td>FFFFFF</td>\n",
       "      <td>DDEEF6</td>\n",
       "      <td>http://pbs.twimg.com/profile_background_images...</td>\n",
       "      <td>0000FF</td>\n",
       "      <td>0000FF</td>\n",
       "      <td>2014-02-20 09:03:35+00:00</td>\n",
       "      <td>2014-02-20 10:03:35</td>\n",
       "      <td>2014-05-05 00:21:22</td>\n",
       "      <td>2016-03-15 15:03:43</td>\n",
       "      <td>1</td>\n",
       "    </tr>\n",
       "    <tr>\n",
       "      <th>3</th>\n",
       "      <td>2384835313</td>\n",
       "      <td>Huong Borella</td>\n",
       "      <td>HuongBorella</td>\n",
       "      <td>42</td>\n",
       "      <td>2</td>\n",
       "      <td>36</td>\n",
       "      <td>0</td>\n",
       "      <td>0</td>\n",
       "      <td>en</td>\n",
       "      <td>http://pbs.twimg.com/profile_images/4449139233...</td>\n",
       "      <td>...</td>\n",
       "      <td>FFFFFF</td>\n",
       "      <td>DDEEF6</td>\n",
       "      <td>http://pbs.twimg.com/profile_background_images...</td>\n",
       "      <td>0000FF</td>\n",
       "      <td>0000FF</td>\n",
       "      <td>2014-03-12 07:07:23+00:00</td>\n",
       "      <td>2014-03-12 08:07:23</td>\n",
       "      <td>2014-05-04 00:22:13</td>\n",
       "      <td>2016-03-15 15:18:24</td>\n",
       "      <td>1</td>\n",
       "    </tr>\n",
       "    <tr>\n",
       "      <th>4</th>\n",
       "      <td>2354580744</td>\n",
       "      <td>Jimmie Valli</td>\n",
       "      <td>JimmieValli</td>\n",
       "      <td>63</td>\n",
       "      <td>5</td>\n",
       "      <td>37</td>\n",
       "      <td>0</td>\n",
       "      <td>0</td>\n",
       "      <td>en</td>\n",
       "      <td>http://pbs.twimg.com/profile_images/4373745549...</td>\n",
       "      <td>...</td>\n",
       "      <td>FFFFFF</td>\n",
       "      <td>DDEEF6</td>\n",
       "      <td>http://pbs.twimg.com/profile_background_images...</td>\n",
       "      <td>0000FF</td>\n",
       "      <td>0000FF</td>\n",
       "      <td>2014-02-21 10:19:20+00:00</td>\n",
       "      <td>2014-02-21 11:19:20</td>\n",
       "      <td>2014-05-05 00:20:56</td>\n",
       "      <td>2016-03-15 15:09:37</td>\n",
       "      <td>1</td>\n",
       "    </tr>\n",
       "  </tbody>\n",
       "</table>\n",
       "<p>5 rows × 24 columns</p>\n",
       "</div>"
      ],
      "text/plain": [
       "           id            name    screen_name  statuses_count  followers_count  \\\n",
       "0  2350533637  Johnette Papps  JohnettePapps              74                4   \n",
       "1  1559643193    Triston Rich   triston_rich             404              139   \n",
       "2  2352962360   Grazyna Kenan   GrazynaKenan              78                5   \n",
       "3  2384835313   Huong Borella   HuongBorella              42                2   \n",
       "4  2354580744    Jimmie Valli    JimmieValli              63                5   \n",
       "\n",
       "   friends_count  favourites_count  listed_count lang  \\\n",
       "0             44                 0             0   en   \n",
       "1            172               365             0   en   \n",
       "2             34                 0             1   en   \n",
       "3             36                 0             0   en   \n",
       "4             37                 0             0   en   \n",
       "\n",
       "                                   profile_image_url  ...  \\\n",
       "0  http://pbs.twimg.com/profile_images/4365505334...  ...   \n",
       "1  http://pbs.twimg.com/profile_images/5174839328...  ...   \n",
       "2  http://pbs.twimg.com/profile_images/4373675064...  ...   \n",
       "3  http://pbs.twimg.com/profile_images/4449139233...  ...   \n",
       "4  http://pbs.twimg.com/profile_images/4373745549...  ...   \n",
       "\n",
       "   profile_sidebar_border_color profile_sidebar_fill_color  \\\n",
       "0                        FFFFFF                     DDEEF6   \n",
       "1                        C0DEED                     DDEEF6   \n",
       "2                        FFFFFF                     DDEEF6   \n",
       "3                        FFFFFF                     DDEEF6   \n",
       "4                        FFFFFF                     DDEEF6   \n",
       "\n",
       "                        profile_background_image_url profile_background_color  \\\n",
       "0  http://pbs.twimg.com/profile_background_images...                   0000FF   \n",
       "1   http://abs.twimg.com/images/themes/theme1/bg.png                   C0DEED   \n",
       "2  http://pbs.twimg.com/profile_background_images...                   0000FF   \n",
       "3  http://pbs.twimg.com/profile_background_images...                   0000FF   \n",
       "4  http://pbs.twimg.com/profile_background_images...                   0000FF   \n",
       "\n",
       "  profile_link_color                created_at           timestamp  \\\n",
       "0             0000FF 2014-02-18 18:47:42+00:00 2014-02-18 19:47:42   \n",
       "1             0084B4 2013-07-01 04:23:39+00:00 2013-07-01 06:23:39   \n",
       "2             0000FF 2014-02-20 09:03:35+00:00 2014-02-20 10:03:35   \n",
       "3             0000FF 2014-03-12 07:07:23+00:00 2014-03-12 08:07:23   \n",
       "4             0000FF 2014-02-21 10:19:20+00:00 2014-02-21 11:19:20   \n",
       "\n",
       "           crawled_at             updated class  \n",
       "0 2014-05-05 00:21:24 2016-03-15 15:12:45     1  \n",
       "1 2015-05-02 08:37:23 2016-03-15 16:10:36     0  \n",
       "2 2014-05-05 00:21:22 2016-03-15 15:03:43     1  \n",
       "3 2014-05-04 00:22:13 2016-03-15 15:18:24     1  \n",
       "4 2014-05-05 00:20:56 2016-03-15 15:09:37     1  \n",
       "\n",
       "[5 rows x 24 columns]"
      ]
     },
     "execution_count": 57,
     "metadata": {},
     "output_type": "execute_result"
    }
   ],
   "source": [
    "users.head()"
   ]
  },
  {
   "cell_type": "code",
   "execution_count": 58,
   "metadata": {},
   "outputs": [
    {
     "name": "stdout",
     "output_type": "stream",
     "text": [
      "<class 'pandas.core.frame.DataFrame'>\n",
      "RangeIndex: 6283436 entries, 0 to 6283435\n",
      "Data columns (total 18 columns):\n",
      "id                       object\n",
      "text                     object\n",
      "source                   object\n",
      "user_id                  int64\n",
      "in_reply_to_status_id    int64\n",
      "in_reply_to_user_id      int64\n",
      "retweeted_status_id      int64\n",
      "retweet_count            int64\n",
      "reply_count              int64\n",
      "favorite_count           int64\n",
      "num_hashtags             int64\n",
      "num_urls                 int64\n",
      "num_mentions             int64\n",
      "created_at               datetime64[ns, UTC]\n",
      "timestamp                datetime64[ns]\n",
      "crawled_at               datetime64[ns]\n",
      "updated                  datetime64[ns]\n",
      "class                    int64\n",
      "dtypes: datetime64[ns, UTC](1), datetime64[ns](3), int64(11), object(3)\n",
      "memory usage: 862.9+ MB\n"
     ]
    }
   ],
   "source": [
    "tweets.info()"
   ]
  },
  {
   "cell_type": "code",
   "execution_count": 59,
   "metadata": {},
   "outputs": [
    {
     "name": "stdout",
     "output_type": "stream",
     "text": [
      "<class 'pandas.core.frame.DataFrame'>\n",
      "RangeIndex: 7989 entries, 0 to 7988\n",
      "Data columns (total 24 columns):\n",
      "id                                    7989 non-null int64\n",
      "name                                  7989 non-null object\n",
      "screen_name                           7989 non-null object\n",
      "statuses_count                        7989 non-null int64\n",
      "followers_count                       7989 non-null int64\n",
      "friends_count                         7989 non-null int64\n",
      "favourites_count                      7989 non-null int64\n",
      "listed_count                          7989 non-null int64\n",
      "lang                                  7989 non-null object\n",
      "profile_image_url                     7989 non-null object\n",
      "profile_use_background_image          7989 non-null int64\n",
      "profile_background_image_url_https    7989 non-null object\n",
      "profile_text_color                    7989 non-null object\n",
      "profile_image_url_https               7989 non-null object\n",
      "profile_sidebar_border_color          7989 non-null object\n",
      "profile_sidebar_fill_color            7989 non-null object\n",
      "profile_background_image_url          7989 non-null object\n",
      "profile_background_color              7989 non-null object\n",
      "profile_link_color                    7989 non-null object\n",
      "created_at                            7989 non-null datetime64[ns, UTC]\n",
      "timestamp                             7989 non-null datetime64[ns]\n",
      "crawled_at                            7989 non-null datetime64[ns]\n",
      "updated                               7989 non-null datetime64[ns]\n",
      "class                                 7989 non-null int64\n",
      "dtypes: datetime64[ns, UTC](1), datetime64[ns](3), int64(8), object(12)\n",
      "memory usage: 1.5+ MB\n"
     ]
    }
   ],
   "source": [
    "users.info()"
   ]
  },
  {
   "cell_type": "code",
   "execution_count": 60,
   "metadata": {},
   "outputs": [
    {
     "data": {
      "text/plain": [
       "(6283436, 18)"
      ]
     },
     "execution_count": 60,
     "metadata": {},
     "output_type": "execute_result"
    }
   ],
   "source": [
    "tweets.shape"
   ]
  },
  {
   "cell_type": "code",
   "execution_count": 61,
   "metadata": {},
   "outputs": [
    {
     "data": {
      "text/plain": [
       "(7989, 24)"
      ]
     },
     "execution_count": 61,
     "metadata": {},
     "output_type": "execute_result"
    }
   ],
   "source": [
    "users.shape"
   ]
  },
  {
   "cell_type": "markdown",
   "metadata": {},
   "source": [
    "# Conclusion\n",
    "In this notebook, we completed the first step of the machine learning workflow. We imported, cleaned, and assembled  raw data to create Tweets and Users tables. For the next step, we will continue to perform exploratory data analysis to gain better insight on features to help classify genuine and bot Twitter accounts. \n",
    "\n",
    "We'll also engineer features, select a metric, test out several algorithms to create a classifier. As a final step here, we will save the clean datasets and use them in the following notebook."
   ]
  },
  {
   "cell_type": "code",
   "execution_count": null,
   "metadata": {},
   "outputs": [],
   "source": [
    "# Save clean data into CSV\n",
    "tweets.to_csv('/Users/tsawaengsri/Desktop/Data Science Courses/Datasets/cresci-2017.csv/datasets_full.csv/clean_tweets2', header=True, index=False)\n",
    "users.to_csv('/Users/tsawaengsri/Desktop/Data Science Courses/Datasets/cresci-2017.csv/datasets_full.csv/clean_users2', header=True, index=False)"
   ]
  }
 ],
 "metadata": {
  "kernelspec": {
   "display_name": "Python 3",
   "language": "python",
   "name": "python3"
  },
  "language_info": {
   "codemirror_mode": {
    "name": "ipython",
    "version": 3
   },
   "file_extension": ".py",
   "mimetype": "text/x-python",
   "name": "python",
   "nbconvert_exporter": "python",
   "pygments_lexer": "ipython3",
   "version": "3.6.8"
  }
 },
 "nbformat": 4,
 "nbformat_minor": 2
}
